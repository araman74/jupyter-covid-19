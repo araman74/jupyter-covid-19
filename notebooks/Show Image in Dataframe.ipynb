{
 "cells": [
  {
   "cell_type": "code",
   "execution_count": 3,
   "metadata": {
    "scrolled": true
   },
   "outputs": [
    {
     "data": {
      "text/html": [
       "<table border=\"1\" class=\"dataframe\">\n",
       "  <thead>\n",
       "    <tr style=\"text-align: right;\">\n",
       "      <th></th>\n",
       "      <th>Code</th>\n",
       "      <th>Name</th>\n",
       "      <th>Price</th>\n",
       "      <th>Net</th>\n",
       "      <th>Sales</th>\n",
       "      <th>image</th>\n",
       "    </tr>\n",
       "  </thead>\n",
       "  <tbody>\n",
       "    <tr>\n",
       "      <th>0</th>\n",
       "      <td>A231</td>\n",
       "      <td>Book</td>\n",
       "      <td>5</td>\n",
       "      <td>3</td>\n",
       "      <td>150</td>\n",
       "      <td><img src=\"https://vignette.wikia.nocookie.net/2007scape/images/7/7a/Mage%27s_book_detail.png/revision/latest?cb=20180310083825\" width=\"20\" ></td>\n",
       "    </tr>\n",
       "    <tr>\n",
       "      <th>1</th>\n",
       "      <td>M441</td>\n",
       "      <td>Magic Staff</td>\n",
       "      <td>10</td>\n",
       "      <td>7</td>\n",
       "      <td>200</td>\n",
       "      <td><img src=\"https://i.pinimg.com/originals/d9/5c/9b/d95c9ba809aa9dd4cb519a225af40f2b.png\" width=\"20\" ></td>\n",
       "    </tr>\n",
       "  </tbody>\n",
       "</table>"
      ],
      "text/plain": [
       "<IPython.core.display.HTML object>"
      ]
     },
     "execution_count": 3,
     "metadata": {},
     "output_type": "execute_result"
    }
   ],
   "source": [
    "import pandas as pd\n",
    "from IPython.core.display import HTML\n",
    "\n",
    "df = pd.DataFrame([['A231', 'Book', 5, 3, 150], \n",
    "                   ['M441', 'Magic Staff', 10, 7, 200]],\n",
    "                   columns = ['Code', 'Name', 'Price', 'Net', 'Sales'])\n",
    "\n",
    "# your images\n",
    "images = ['https://vignette.wikia.nocookie.net/2007scape/images/7/7a/Mage%27s_book_detail.png/revision/latest?cb=20180310083825',\n",
    "          'https://i.pinimg.com/originals/d9/5c/9b/d95c9ba809aa9dd4cb519a225af40f2b.png'] \n",
    "\n",
    "\n",
    "df['image'] = images\n",
    "\n",
    "# convert your links to html tags \n",
    "def path_to_image_html(path):\n",
    "    return '<img src=\"'+ path + '\" width=\"20\" >'\n",
    "\n",
    "pd.set_option('display.max_colwidth', -1)\n",
    "\n",
    "HTML(df.to_html(escape=False ,formatters=dict(image=path_to_image_html)))"
   ]
  },
  {
   "cell_type": "code",
   "execution_count": 12,
   "metadata": {
    "scrolled": true
   },
   "outputs": [
    {
     "data": {
      "text/html": [
       "<div>\n",
       "<style scoped>\n",
       "    .dataframe tbody tr th:only-of-type {\n",
       "        vertical-align: middle;\n",
       "    }\n",
       "\n",
       "    .dataframe tbody tr th {\n",
       "        vertical-align: top;\n",
       "    }\n",
       "\n",
       "    .dataframe thead th {\n",
       "        text-align: right;\n",
       "    }\n",
       "</style>\n",
       "<table border=\"1\" class=\"dataframe\">\n",
       "  <thead>\n",
       "    <tr style=\"text-align: right;\">\n",
       "      <th></th>\n",
       "      <th>project_id</th>\n",
       "      <th>image_url</th>\n",
       "      <th>pictures</th>\n",
       "    </tr>\n",
       "  </thead>\n",
       "  <tbody>\n",
       "    <tr>\n",
       "      <td>0</td>\n",
       "      <td>1</td>\n",
       "      <td>http://www.personal.psu.edu/dqc5255/gl-29.jpg</td>\n",
       "      <td>&lt;PIL.JpegImagePlugin.JpegImageFile image mode=RGB size=400x300 at 0x21D96E3B7C8&gt;</td>\n",
       "    </tr>\n",
       "    <tr>\n",
       "      <td>1</td>\n",
       "      <td>2</td>\n",
       "      <td>https://www.iprotego.com/wp-content/uploads/google.jpg</td>\n",
       "      <td>&lt;PIL.JpegImagePlugin.JpegImageFile image mode=RGB size=760x570 at 0x21D96551708&gt;</td>\n",
       "    </tr>\n",
       "  </tbody>\n",
       "</table>\n",
       "</div>"
      ],
      "text/plain": [
       "  project_id                                               image_url  \\\n",
       "0  1          http://www.personal.psu.edu/dqc5255/gl-29.jpg            \n",
       "1  2          https://www.iprotego.com/wp-content/uploads/google.jpg   \n",
       "\n",
       "                                                                           pictures  \n",
       "0  <PIL.JpegImagePlugin.JpegImageFile image mode=RGB size=400x300 at 0x21D96E3B7C8>  \n",
       "1  <PIL.JpegImagePlugin.JpegImageFile image mode=RGB size=760x570 at 0x21D96551708>  "
      ]
     },
     "execution_count": 12,
     "metadata": {},
     "output_type": "execute_result"
    }
   ],
   "source": [
    "import pandas as pd\n",
    "from PIL import Image\n",
    "import requests\n",
    "from io import BytesIO\n",
    "\n",
    "df = pd.DataFrame({'project_id':[\"1\", \"2\"], \n",
    "                    'image_url':['http://www.personal.psu.edu/dqc5255/gl-29.jpg',\n",
    "                                'https://www.iprotego.com/wp-content/uploads/google.jpg']})\n",
    "\n",
    "pictures = [None] * 2\n",
    "\n",
    "df.insert(2, \"pictures\", pictures, True)\n",
    "\n",
    "headers = {'User-Agent': 'Mozilla/5.0 (Windows NT 10.0; Win64; x64) AppleWebKit/537.36 (KHTML, like Gecko) Chrome/80.0.3987.163 Safari/537.36'}\n",
    "\n",
    "for i in range(2):\n",
    "    r = requests.get(df.iloc[i,1], headers=headers)\n",
    "    r.raise_for_status()\n",
    "    df.iloc[i,2] = Image.open(BytesIO(r.content))\n",
    "\n",
    "df"
   ]
  },
  {
   "cell_type": "code",
   "execution_count": 1,
   "metadata": {
    "scrolled": true
   },
   "outputs": [
    {
     "data": {
      "application/vnd.jupyter.widget-view+json": {
       "model_id": "533421d10cb84468828a5216b79f74e6",
       "version_major": 2,
       "version_minor": 0
      },
      "text/plain": [
       "Dropdown(options=(('1', 'a'), ('2', 'b'), ('3', 'c')), value='a')"
      ]
     },
     "metadata": {},
     "output_type": "display_data"
    },
    {
     "data": {
      "application/vnd.jupyter.widget-view+json": {
       "model_id": "d85c44d156e34e2981c07bffa4087c1c",
       "version_major": 2,
       "version_minor": 0
      },
      "text/plain": [
       "Text(value='a')"
      ]
     },
     "metadata": {},
     "output_type": "display_data"
    }
   ],
   "source": [
    "from ipywidgets import RadioButtons, Text, Select, Dropdown, jslink\n",
    "from ipywidgets.widgets.widget import Widget, register, widget_serialization\n",
    "from ipywidgets.widgets.widget_core import CoreWidget\n",
    "from IPython.display import  display\n",
    "\n",
    "from traitlets import Unicode, Tuple, Instance, TraitError\n",
    "\n",
    "Dropdown.value.tag(sync=True)\n",
    "\n",
    "selection = Dropdown(options=[('1','a'),('2','b'),('3','c')])\n",
    "text = Text(value='a')\n",
    "l = jslink((text, 'value'), (selection, 'value'))\n",
    "display(selection,text)"
   ]
  },
  {
   "cell_type": "code",
   "execution_count": 4,
   "metadata": {
    "scrolled": true
   },
   "outputs": [
    {
     "data": {
      "application/vnd.jupyter.widget-view+json": {
       "model_id": "174932be67074e8586140509deea9b48",
       "version_major": 2,
       "version_minor": 0
      },
      "text/plain": [
       "Dropdown(description='selector', options=('one', 'two', 'three'), value='one')"
      ]
     },
     "metadata": {},
     "output_type": "display_data"
    }
   ],
   "source": [
    "from IPython.display import display\n",
    "import ipywidgets as ipw\n",
    "opts = ['one','two','three']\n",
    "dpdown = ipw.Dropdown(description='selector', options=opts)\n",
    "display(dpdown)"
   ]
  }
 ],
 "metadata": {
  "kernelspec": {
   "display_name": "Python 3",
   "language": "python",
   "name": "python3"
  },
  "language_info": {
   "codemirror_mode": {
    "name": "ipython",
    "version": 3
   },
   "file_extension": ".py",
   "mimetype": "text/x-python",
   "name": "python",
   "nbconvert_exporter": "python",
   "pygments_lexer": "ipython3",
   "version": "3.7.4"
  }
 },
 "nbformat": 4,
 "nbformat_minor": 2
}
