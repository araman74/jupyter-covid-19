{
 "cells": [
  {
   "cell_type": "markdown",
   "metadata": {},
   "source": [
    "# COVID-19 Interactive Analysis Dashboard"
   ]
  },
  {
   "cell_type": "code",
   "execution_count": 1,
   "metadata": {},
   "outputs": [],
   "source": [
    "# importing libraries\n",
    "\n",
    "from __future__ import print_function\n",
    "from ipywidgets import interact, interactive, fixed, interact_manual\n",
    "from IPython.core.display import display, HTML\n",
    "\n",
    "import numpy as np\n",
    "import pandas as pd\n",
    "import matplotlib.pyplot as plt\n",
    "import plotly.express as px\n",
    "import folium\n",
    "import plotly.graph_objects as go\n",
    "import seaborn as sns\n",
    "import ipywidgets as widgets"
   ]
  },
  {
   "cell_type": "code",
   "execution_count": 2,
   "metadata": {},
   "outputs": [],
   "source": [
    "# loading data right from the source:\n",
    "death_df = pd.read_csv('https://raw.githubusercontent.com/CSSEGISandData/COVID-19/master/csse_covid_19_data/csse_covid_19_time_series/time_series_covid19_deaths_global.csv')\n",
    "confirmed_df = pd.read_csv('https://raw.githubusercontent.com/CSSEGISandData/COVID-19/master/csse_covid_19_data/csse_covid_19_time_series/time_series_covid19_confirmed_global.csv')\n",
    "recovered_df = pd.read_csv('https://raw.githubusercontent.com/CSSEGISandData/COVID-19/master/csse_covid_19_data/csse_covid_19_time_series/time_series_covid19_recovered_global.csv')\n",
    "country_df = pd.read_csv('https://raw.githubusercontent.com/CSSEGISandData/COVID-19/web-data/data/cases_country.csv')"
   ]
  },
  {
   "cell_type": "code",
   "execution_count": 7,
   "metadata": {},
   "outputs": [],
   "source": [
    "# data cleaning\n",
    "\n",
    "# renaming the df column names to lowercase\n",
    "country_df.columns = map(str.lower, country_df.columns)\n",
    "confirmed_df.columns = map(str.lower, confirmed_df.columns)\n",
    "death_df.columns = map(str.lower, death_df.columns)\n",
    "recovered_df.columns = map(str.lower, recovered_df.columns)\n",
    "\n",
    "# changing province/state to state and country/region to country\n",
    "confirmed_df = confirmed_df.rename(columns={'province/state': 'state', 'country/region': 'country'})\n",
    "recovered_df = confirmed_df.rename(columns={'province/state': 'state', 'country/region': 'country'})\n",
    "death_df = death_df.rename(columns={'province/state': 'state', 'country/region': 'country'})\n",
    "country_df = country_df.rename(columns={'country_region': 'country'})\n",
    "# country_df.head()"
   ]
  },
  {
   "cell_type": "code",
   "execution_count": 8,
   "metadata": {},
   "outputs": [],
   "source": [
    "# total number of confirmed, death and recovered cases\n",
    "confirmed_total = int(country_df['confirmed'].sum())\n",
    "deaths_total = int(country_df['deaths'].sum())\n",
    "recovered_total = int(country_df['recovered'].sum())\n",
    "active_total = int(country_df['active'].sum())"
   ]
  },
  {
   "cell_type": "code",
   "execution_count": 9,
   "metadata": {},
   "outputs": [
    {
     "data": {
      "text/html": [
       "<div style = 'background-color: #504e4e; padding: 30px '><span style='color: #fff; font-size:30px;'> Confirmed: 1237420</span><span style='color: red; font-size:30px;margin-left:20px;'> Deaths: 67260</span><span style='color: lightgreen; font-size:30px; margin-left:20px;'> Recovered: 252944</span></div>"
      ],
      "text/plain": [
       "<IPython.core.display.HTML object>"
      ]
     },
     "metadata": {},
     "output_type": "display_data"
    }
   ],
   "source": [
    "# displaying the total stats\n",
    "\n",
    "display(HTML(\"<div style = 'background-color: #504e4e; padding: 30px '>\" +\n",
    "             \"<span style='color: #fff; font-size:30px;'> Confirmed: \"  + str(confirmed_total) +\"</span>\" +\n",
    "             \"<span style='color: red; font-size:30px;margin-left:20px;'> Deaths: \" + str(deaths_total) + \"</span>\"+\n",
    "             \"<span style='color: lightgreen; font-size:30px; margin-left:20px;'> Recovered: \" + str(recovered_total) + \"</span>\"+\n",
    "             \"</div>\")\n",
    "       )"
   ]
  },
  {
   "cell_type": "markdown",
   "metadata": {},
   "source": [
    "# COVID-19 Confirmed/Death/Recovered cases by countries\n",
    "\n",
    "## Enter number of countries you want the data for"
   ]
  },
  {
   "cell_type": "code",
   "execution_count": 10,
   "metadata": {},
   "outputs": [
    {
     "data": {
      "application/vnd.jupyter.widget-view+json": {
       "model_id": "29c0a4086f224de79b7245b9fd46439b",
       "version_major": 2,
       "version_minor": 0
      },
      "text/plain": [
       "interactive(children=(Text(value='10', description='n'), Output()), _dom_classes=('widget-interact',))"
      ]
     },
     "metadata": {},
     "output_type": "display_data"
    },
    {
     "data": {
      "application/vnd.jupyter.widget-view+json": {
       "model_id": "927f4988b7c54b45b749a70f74dc8fd1",
       "version_major": 2,
       "version_minor": 0
      },
      "text/plain": [
       "VBox(children=(FigureWidget({\n",
       "    'data': [], 'layout': {'template': '...'}\n",
       "}),), layout=Layout(border='solid …"
      ]
     },
     "metadata": {},
     "output_type": "display_data"
    }
   ],
   "source": [
    "# sorting the values by confirmed descednding order\n",
    "# country_df.sort_values('confirmed', ascending= False).head(10).style.background_gradient(cmap='copper')\n",
    "fig = go.FigureWidget( layout=go.Layout() )\n",
    "def highlight_col(x):\n",
    "    r = 'background-color: red'\n",
    "    y = 'background-color: purple'\n",
    "    g = 'background-color: grey'\n",
    "    df1 = pd.DataFrame('', index=x.index, columns=x.columns)\n",
    "    df1.iloc[:, 4] = y\n",
    "    df1.iloc[:, 5] = r\n",
    "    df1.iloc[:, 6] = g\n",
    "    \n",
    "    return df1\n",
    "\n",
    "def show_latest_cases(n):\n",
    "    n = int(n)\n",
    "    return country_df.sort_values('confirmed', ascending= False).head(n).style.apply(highlight_col, axis=None)\n",
    "\n",
    "interact(show_latest_cases, n='10')\n",
    "\n",
    "ipywLayout = widgets.Layout(border='solid 2px green')\n",
    "ipywLayout.display='none' # uncomment this, run cell again - then the graph/figure disappears\n",
    "widgets.VBox([fig], layout=ipywLayout)"
   ]
  },
  {
   "cell_type": "code",
   "execution_count": 11,
   "metadata": {},
   "outputs": [],
   "source": [
    "sorted_country_df = country_df.sort_values('confirmed', ascending= False)"
   ]
  },
  {
   "cell_type": "markdown",
   "metadata": {},
   "source": [
    "# Slide to check for the worst hit countries"
   ]
  },
  {
   "cell_type": "code",
   "execution_count": 12,
   "metadata": {},
   "outputs": [
    {
     "data": {
      "application/vnd.jupyter.widget-view+json": {
       "model_id": "a5b2315ce0f54555819d3e2fe35751ef",
       "version_major": 2,
       "version_minor": 0
      },
      "text/plain": [
       "interactive(children=(IntSlider(value=10, description='n', max=30, min=-10), Output()), _dom_classes=('widget-…"
      ]
     },
     "metadata": {},
     "output_type": "display_data"
    },
    {
     "data": {
      "application/vnd.jupyter.widget-view+json": {
       "model_id": "9183345ebeb04f6f8f432267bdc17fab",
       "version_major": 2,
       "version_minor": 0
      },
      "text/plain": [
       "VBox(children=(FigureWidget({\n",
       "    'data': [], 'layout': {'autosize': True, 'template': '...'}\n",
       "}),), layout=Lay…"
      ]
     },
     "metadata": {},
     "output_type": "display_data"
    }
   ],
   "source": [
    "# # plotting the 20 worst hit countries\n",
    "\n",
    "def bubble_chart(n):\n",
    "    fig = px.scatter(sorted_country_df.head(n), x=\"country\", y=\"confirmed\", size=\"confirmed\", color=\"country\",\n",
    "               hover_name=\"country\", size_max=60)\n",
    "    fig.update_layout(\n",
    "    title=str(n) +\" Worst hit countries\",\n",
    "    xaxis_title=\"Countries\",\n",
    "    yaxis_title=\"Confirmed Cases\",\n",
    "    width = 900\n",
    "    )\n",
    "    fig.show();\n",
    "\n",
    "interact(bubble_chart, n=10)\n",
    "\n",
    "ipywLayout = widgets.Layout(border='solid 2px green')\n",
    "ipywLayout.display='none'\n",
    "widgets.VBox([fig], layout=ipywLayout)"
   ]
  },
  {
   "cell_type": "code",
   "execution_count": 13,
   "metadata": {},
   "outputs": [],
   "source": [
    "\n",
    "\n",
    "def plot_cases_of_a_country(country):\n",
    "    labels = ['confirmed', 'deaths']\n",
    "    colors = ['blue', 'red']\n",
    "    mode_size = [6, 8]\n",
    "    line_size = [4, 5]\n",
    "    \n",
    "    df_list = [confirmed_df, death_df]\n",
    "    \n",
    "    fig = go.Figure();\n",
    "    \n",
    "    for i, df in enumerate(df_list):\n",
    "        if country == 'World' or country == 'world':\n",
    "            x_data = np.array(list(df.iloc[:, 20:].columns))\n",
    "            y_data = np.sum(np.asarray(df.iloc[:,4:]),axis = 0)\n",
    "            \n",
    "        else:    \n",
    "            x_data = np.array(list(df.iloc[:, 20:].columns))\n",
    "            y_data = np.sum(np.asarray(df[df['country'] == country].iloc[:,20:]),axis = 0)\n",
    "            \n",
    "        fig.add_trace(go.Scatter(x=x_data, y=y_data, mode='lines+markers',\n",
    "        name=labels[i],\n",
    "        line=dict(color=colors[i], width=line_size[i]),\n",
    "        connectgaps=True,\n",
    "        text = \"Total \" + str(labels[i]) +\": \"+ str(y_data[-1])\n",
    "        ));\n",
    "    \n",
    "    fig.update_layout(\n",
    "        title=\"COVID 19 cases of \" + country,\n",
    "        xaxis_title='Date',\n",
    "        yaxis_title='No. of Confirmed Cases',\n",
    "        margin=dict(l=20, r=20, t=40, b=20),\n",
    "        paper_bgcolor=\"lightgrey\",\n",
    "        width = 800,\n",
    "        \n",
    "    );\n",
    "    \n",
    "    fig.update_yaxes(type=\"linear\")\n",
    "    fig.show();\n"
   ]
  },
  {
   "cell_type": "markdown",
   "metadata": {},
   "source": [
    "# Check the details of your country or the World\n",
    "\n",
    "* Enter the name of your country(in capitalized format(e.g. Italy)) and world for total cases"
   ]
  },
  {
   "cell_type": "code",
   "execution_count": 14,
   "metadata": {},
   "outputs": [
    {
     "data": {
      "application/vnd.jupyter.widget-view+json": {
       "model_id": "12a20469195b4ebcac74e430c7716df6",
       "version_major": 2,
       "version_minor": 0
      },
      "text/plain": [
       "interactive(children=(Text(value='World', description='country'), Output()), _dom_classes=('widget-interact',)…"
      ]
     },
     "metadata": {},
     "output_type": "display_data"
    },
    {
     "data": {
      "application/vnd.jupyter.widget-view+json": {
       "model_id": "d859576e003a484589f1c67656559506",
       "version_major": 2,
       "version_minor": 0
      },
      "text/plain": [
       "VBox(children=(FigureWidget({\n",
       "    'data': [], 'layout': {'autosize': True, 'template': '...'}\n",
       "}),), layout=Lay…"
      ]
     },
     "metadata": {},
     "output_type": "display_data"
    }
   ],
   "source": [
    "interact(plot_cases_of_a_country, country='World')\n",
    "\n",
    "ipywLayout = widgets.Layout(border='solid 2px green')\n",
    "ipywLayout.display='none' # uncomment this, run cell again - then the graph/figure disappears\n",
    "widgets.VBox([fig], layout=ipywLayout)"
   ]
  },
  {
   "cell_type": "markdown",
   "metadata": {},
   "source": [
    "# 10 worst hit countries - Confirmed cases"
   ]
  },
  {
   "cell_type": "code",
   "execution_count": 15,
   "metadata": {},
   "outputs": [
    {
     "data": {
      "application/vnd.plotly.v1+json": {
       "config": {
        "plotlyServerURL": "https://plot.ly"
       },
       "data": [
        {
         "alignmentgroup": "True",
         "hoverlabel": {
          "namelength": 0
         },
         "hovertemplate": "country=%{x}<br>confirmed=%{y}",
         "legendgroup": "",
         "marker": {
          "color": "pink"
         },
         "name": "",
         "offsetgroup": "",
         "orientation": "v",
         "showlegend": false,
         "textposition": "auto",
         "type": "bar",
         "x": [
          "US",
          "Spain",
          "Italy",
          "Germany",
          "France",
          "China",
          "Iran",
          "United Kingdom",
          "Turkey",
          "Switzerland"
         ],
         "xaxis": "x",
         "y": [
          321762,
          130759,
          124632,
          97351,
          90863,
          82602,
          58226,
          48388,
          23934,
          21100
         ],
         "yaxis": "y"
        }
       ],
       "layout": {
        "barmode": "relative",
        "height": 500,
        "legend": {
         "tracegroupgap": 0
        },
        "template": {
         "data": {
          "bar": [
           {
            "error_x": {
             "color": "#2a3f5f"
            },
            "error_y": {
             "color": "#2a3f5f"
            },
            "marker": {
             "line": {
              "color": "#E5ECF6",
              "width": 0.5
             }
            },
            "type": "bar"
           }
          ],
          "barpolar": [
           {
            "marker": {
             "line": {
              "color": "#E5ECF6",
              "width": 0.5
             }
            },
            "type": "barpolar"
           }
          ],
          "carpet": [
           {
            "aaxis": {
             "endlinecolor": "#2a3f5f",
             "gridcolor": "white",
             "linecolor": "white",
             "minorgridcolor": "white",
             "startlinecolor": "#2a3f5f"
            },
            "baxis": {
             "endlinecolor": "#2a3f5f",
             "gridcolor": "white",
             "linecolor": "white",
             "minorgridcolor": "white",
             "startlinecolor": "#2a3f5f"
            },
            "type": "carpet"
           }
          ],
          "choropleth": [
           {
            "colorbar": {
             "outlinewidth": 0,
             "ticks": ""
            },
            "type": "choropleth"
           }
          ],
          "contour": [
           {
            "colorbar": {
             "outlinewidth": 0,
             "ticks": ""
            },
            "colorscale": [
             [
              0,
              "#0d0887"
             ],
             [
              0.1111111111111111,
              "#46039f"
             ],
             [
              0.2222222222222222,
              "#7201a8"
             ],
             [
              0.3333333333333333,
              "#9c179e"
             ],
             [
              0.4444444444444444,
              "#bd3786"
             ],
             [
              0.5555555555555556,
              "#d8576b"
             ],
             [
              0.6666666666666666,
              "#ed7953"
             ],
             [
              0.7777777777777778,
              "#fb9f3a"
             ],
             [
              0.8888888888888888,
              "#fdca26"
             ],
             [
              1,
              "#f0f921"
             ]
            ],
            "type": "contour"
           }
          ],
          "contourcarpet": [
           {
            "colorbar": {
             "outlinewidth": 0,
             "ticks": ""
            },
            "type": "contourcarpet"
           }
          ],
          "heatmap": [
           {
            "colorbar": {
             "outlinewidth": 0,
             "ticks": ""
            },
            "colorscale": [
             [
              0,
              "#0d0887"
             ],
             [
              0.1111111111111111,
              "#46039f"
             ],
             [
              0.2222222222222222,
              "#7201a8"
             ],
             [
              0.3333333333333333,
              "#9c179e"
             ],
             [
              0.4444444444444444,
              "#bd3786"
             ],
             [
              0.5555555555555556,
              "#d8576b"
             ],
             [
              0.6666666666666666,
              "#ed7953"
             ],
             [
              0.7777777777777778,
              "#fb9f3a"
             ],
             [
              0.8888888888888888,
              "#fdca26"
             ],
             [
              1,
              "#f0f921"
             ]
            ],
            "type": "heatmap"
           }
          ],
          "heatmapgl": [
           {
            "colorbar": {
             "outlinewidth": 0,
             "ticks": ""
            },
            "colorscale": [
             [
              0,
              "#0d0887"
             ],
             [
              0.1111111111111111,
              "#46039f"
             ],
             [
              0.2222222222222222,
              "#7201a8"
             ],
             [
              0.3333333333333333,
              "#9c179e"
             ],
             [
              0.4444444444444444,
              "#bd3786"
             ],
             [
              0.5555555555555556,
              "#d8576b"
             ],
             [
              0.6666666666666666,
              "#ed7953"
             ],
             [
              0.7777777777777778,
              "#fb9f3a"
             ],
             [
              0.8888888888888888,
              "#fdca26"
             ],
             [
              1,
              "#f0f921"
             ]
            ],
            "type": "heatmapgl"
           }
          ],
          "histogram": [
           {
            "marker": {
             "colorbar": {
              "outlinewidth": 0,
              "ticks": ""
             }
            },
            "type": "histogram"
           }
          ],
          "histogram2d": [
           {
            "colorbar": {
             "outlinewidth": 0,
             "ticks": ""
            },
            "colorscale": [
             [
              0,
              "#0d0887"
             ],
             [
              0.1111111111111111,
              "#46039f"
             ],
             [
              0.2222222222222222,
              "#7201a8"
             ],
             [
              0.3333333333333333,
              "#9c179e"
             ],
             [
              0.4444444444444444,
              "#bd3786"
             ],
             [
              0.5555555555555556,
              "#d8576b"
             ],
             [
              0.6666666666666666,
              "#ed7953"
             ],
             [
              0.7777777777777778,
              "#fb9f3a"
             ],
             [
              0.8888888888888888,
              "#fdca26"
             ],
             [
              1,
              "#f0f921"
             ]
            ],
            "type": "histogram2d"
           }
          ],
          "histogram2dcontour": [
           {
            "colorbar": {
             "outlinewidth": 0,
             "ticks": ""
            },
            "colorscale": [
             [
              0,
              "#0d0887"
             ],
             [
              0.1111111111111111,
              "#46039f"
             ],
             [
              0.2222222222222222,
              "#7201a8"
             ],
             [
              0.3333333333333333,
              "#9c179e"
             ],
             [
              0.4444444444444444,
              "#bd3786"
             ],
             [
              0.5555555555555556,
              "#d8576b"
             ],
             [
              0.6666666666666666,
              "#ed7953"
             ],
             [
              0.7777777777777778,
              "#fb9f3a"
             ],
             [
              0.8888888888888888,
              "#fdca26"
             ],
             [
              1,
              "#f0f921"
             ]
            ],
            "type": "histogram2dcontour"
           }
          ],
          "mesh3d": [
           {
            "colorbar": {
             "outlinewidth": 0,
             "ticks": ""
            },
            "type": "mesh3d"
           }
          ],
          "parcoords": [
           {
            "line": {
             "colorbar": {
              "outlinewidth": 0,
              "ticks": ""
             }
            },
            "type": "parcoords"
           }
          ],
          "pie": [
           {
            "automargin": true,
            "type": "pie"
           }
          ],
          "scatter": [
           {
            "marker": {
             "colorbar": {
              "outlinewidth": 0,
              "ticks": ""
             }
            },
            "type": "scatter"
           }
          ],
          "scatter3d": [
           {
            "line": {
             "colorbar": {
              "outlinewidth": 0,
              "ticks": ""
             }
            },
            "marker": {
             "colorbar": {
              "outlinewidth": 0,
              "ticks": ""
             }
            },
            "type": "scatter3d"
           }
          ],
          "scattercarpet": [
           {
            "marker": {
             "colorbar": {
              "outlinewidth": 0,
              "ticks": ""
             }
            },
            "type": "scattercarpet"
           }
          ],
          "scattergeo": [
           {
            "marker": {
             "colorbar": {
              "outlinewidth": 0,
              "ticks": ""
             }
            },
            "type": "scattergeo"
           }
          ],
          "scattergl": [
           {
            "marker": {
             "colorbar": {
              "outlinewidth": 0,
              "ticks": ""
             }
            },
            "type": "scattergl"
           }
          ],
          "scattermapbox": [
           {
            "marker": {
             "colorbar": {
              "outlinewidth": 0,
              "ticks": ""
             }
            },
            "type": "scattermapbox"
           }
          ],
          "scatterpolar": [
           {
            "marker": {
             "colorbar": {
              "outlinewidth": 0,
              "ticks": ""
             }
            },
            "type": "scatterpolar"
           }
          ],
          "scatterpolargl": [
           {
            "marker": {
             "colorbar": {
              "outlinewidth": 0,
              "ticks": ""
             }
            },
            "type": "scatterpolargl"
           }
          ],
          "scatterternary": [
           {
            "marker": {
             "colorbar": {
              "outlinewidth": 0,
              "ticks": ""
             }
            },
            "type": "scatterternary"
           }
          ],
          "surface": [
           {
            "colorbar": {
             "outlinewidth": 0,
             "ticks": ""
            },
            "colorscale": [
             [
              0,
              "#0d0887"
             ],
             [
              0.1111111111111111,
              "#46039f"
             ],
             [
              0.2222222222222222,
              "#7201a8"
             ],
             [
              0.3333333333333333,
              "#9c179e"
             ],
             [
              0.4444444444444444,
              "#bd3786"
             ],
             [
              0.5555555555555556,
              "#d8576b"
             ],
             [
              0.6666666666666666,
              "#ed7953"
             ],
             [
              0.7777777777777778,
              "#fb9f3a"
             ],
             [
              0.8888888888888888,
              "#fdca26"
             ],
             [
              1,
              "#f0f921"
             ]
            ],
            "type": "surface"
           }
          ],
          "table": [
           {
            "cells": {
             "fill": {
              "color": "#EBF0F8"
             },
             "line": {
              "color": "white"
             }
            },
            "header": {
             "fill": {
              "color": "#C8D4E3"
             },
             "line": {
              "color": "white"
             }
            },
            "type": "table"
           }
          ]
         },
         "layout": {
          "annotationdefaults": {
           "arrowcolor": "#2a3f5f",
           "arrowhead": 0,
           "arrowwidth": 1
          },
          "coloraxis": {
           "colorbar": {
            "outlinewidth": 0,
            "ticks": ""
           }
          },
          "colorscale": {
           "diverging": [
            [
             0,
             "#8e0152"
            ],
            [
             0.1,
             "#c51b7d"
            ],
            [
             0.2,
             "#de77ae"
            ],
            [
             0.3,
             "#f1b6da"
            ],
            [
             0.4,
             "#fde0ef"
            ],
            [
             0.5,
             "#f7f7f7"
            ],
            [
             0.6,
             "#e6f5d0"
            ],
            [
             0.7,
             "#b8e186"
            ],
            [
             0.8,
             "#7fbc41"
            ],
            [
             0.9,
             "#4d9221"
            ],
            [
             1,
             "#276419"
            ]
           ],
           "sequential": [
            [
             0,
             "#0d0887"
            ],
            [
             0.1111111111111111,
             "#46039f"
            ],
            [
             0.2222222222222222,
             "#7201a8"
            ],
            [
             0.3333333333333333,
             "#9c179e"
            ],
            [
             0.4444444444444444,
             "#bd3786"
            ],
            [
             0.5555555555555556,
             "#d8576b"
            ],
            [
             0.6666666666666666,
             "#ed7953"
            ],
            [
             0.7777777777777778,
             "#fb9f3a"
            ],
            [
             0.8888888888888888,
             "#fdca26"
            ],
            [
             1,
             "#f0f921"
            ]
           ],
           "sequentialminus": [
            [
             0,
             "#0d0887"
            ],
            [
             0.1111111111111111,
             "#46039f"
            ],
            [
             0.2222222222222222,
             "#7201a8"
            ],
            [
             0.3333333333333333,
             "#9c179e"
            ],
            [
             0.4444444444444444,
             "#bd3786"
            ],
            [
             0.5555555555555556,
             "#d8576b"
            ],
            [
             0.6666666666666666,
             "#ed7953"
            ],
            [
             0.7777777777777778,
             "#fb9f3a"
            ],
            [
             0.8888888888888888,
             "#fdca26"
            ],
            [
             1,
             "#f0f921"
            ]
           ]
          },
          "colorway": [
           "#636efa",
           "#EF553B",
           "#00cc96",
           "#ab63fa",
           "#FFA15A",
           "#19d3f3",
           "#FF6692",
           "#B6E880",
           "#FF97FF",
           "#FECB52"
          ],
          "font": {
           "color": "#2a3f5f"
          },
          "geo": {
           "bgcolor": "white",
           "lakecolor": "white",
           "landcolor": "#E5ECF6",
           "showlakes": true,
           "showland": true,
           "subunitcolor": "white"
          },
          "hoverlabel": {
           "align": "left"
          },
          "hovermode": "closest",
          "mapbox": {
           "style": "light"
          },
          "paper_bgcolor": "white",
          "plot_bgcolor": "#E5ECF6",
          "polar": {
           "angularaxis": {
            "gridcolor": "white",
            "linecolor": "white",
            "ticks": ""
           },
           "bgcolor": "#E5ECF6",
           "radialaxis": {
            "gridcolor": "white",
            "linecolor": "white",
            "ticks": ""
           }
          },
          "scene": {
           "xaxis": {
            "backgroundcolor": "#E5ECF6",
            "gridcolor": "white",
            "gridwidth": 2,
            "linecolor": "white",
            "showbackground": true,
            "ticks": "",
            "zerolinecolor": "white"
           },
           "yaxis": {
            "backgroundcolor": "#E5ECF6",
            "gridcolor": "white",
            "gridwidth": 2,
            "linecolor": "white",
            "showbackground": true,
            "ticks": "",
            "zerolinecolor": "white"
           },
           "zaxis": {
            "backgroundcolor": "#E5ECF6",
            "gridcolor": "white",
            "gridwidth": 2,
            "linecolor": "white",
            "showbackground": true,
            "ticks": "",
            "zerolinecolor": "white"
           }
          },
          "shapedefaults": {
           "line": {
            "color": "#2a3f5f"
           }
          },
          "ternary": {
           "aaxis": {
            "gridcolor": "white",
            "linecolor": "white",
            "ticks": ""
           },
           "baxis": {
            "gridcolor": "white",
            "linecolor": "white",
            "ticks": ""
           },
           "bgcolor": "#E5ECF6",
           "caxis": {
            "gridcolor": "white",
            "linecolor": "white",
            "ticks": ""
           }
          },
          "title": {
           "x": 0.05
          },
          "xaxis": {
           "automargin": true,
           "gridcolor": "white",
           "linecolor": "white",
           "ticks": "",
           "title": {
            "standoff": 15
           },
           "zerolinecolor": "white",
           "zerolinewidth": 2
          },
          "yaxis": {
           "automargin": true,
           "gridcolor": "white",
           "linecolor": "white",
           "ticks": "",
           "title": {
            "standoff": 15
           },
           "zerolinecolor": "white",
           "zerolinewidth": 2
          }
         }
        },
        "title": {
         "text": "Top 10 worst affected countries"
        },
        "width": 800,
        "xaxis": {
         "anchor": "y",
         "domain": [
          0,
          1
         ],
         "title": {
          "text": "country"
         }
        },
        "yaxis": {
         "anchor": "x",
         "domain": [
          0,
          1
         ],
         "title": {
          "text": "confirmed"
         }
        }
       }
      },
      "text/html": [
       "<div>\n",
       "        \n",
       "        \n",
       "            <div id=\"07c05b94-4b6f-466e-89c0-5dc96a614949\" class=\"plotly-graph-div\" style=\"height:500px; width:800px;\"></div>\n",
       "            <script type=\"text/javascript\">\n",
       "                require([\"plotly\"], function(Plotly) {\n",
       "                    window.PLOTLYENV=window.PLOTLYENV || {};\n",
       "                    \n",
       "                if (document.getElementById(\"07c05b94-4b6f-466e-89c0-5dc96a614949\")) {\n",
       "                    Plotly.newPlot(\n",
       "                        '07c05b94-4b6f-466e-89c0-5dc96a614949',\n",
       "                        [{\"alignmentgroup\": \"True\", \"hoverlabel\": {\"namelength\": 0}, \"hovertemplate\": \"country=%{x}<br>confirmed=%{y}\", \"legendgroup\": \"\", \"marker\": {\"color\": \"pink\"}, \"name\": \"\", \"offsetgroup\": \"\", \"orientation\": \"v\", \"showlegend\": false, \"textposition\": \"auto\", \"type\": \"bar\", \"x\": [\"US\", \"Spain\", \"Italy\", \"Germany\", \"France\", \"China\", \"Iran\", \"United Kingdom\", \"Turkey\", \"Switzerland\"], \"xaxis\": \"x\", \"y\": [321762, 130759, 124632, 97351, 90863, 82602, 58226, 48388, 23934, 21100], \"yaxis\": \"y\"}],\n",
       "                        {\"barmode\": \"relative\", \"height\": 500, \"legend\": {\"tracegroupgap\": 0}, \"template\": {\"data\": {\"bar\": [{\"error_x\": {\"color\": \"#2a3f5f\"}, \"error_y\": {\"color\": \"#2a3f5f\"}, \"marker\": {\"line\": {\"color\": \"#E5ECF6\", \"width\": 0.5}}, \"type\": \"bar\"}], \"barpolar\": [{\"marker\": {\"line\": {\"color\": \"#E5ECF6\", \"width\": 0.5}}, \"type\": \"barpolar\"}], \"carpet\": [{\"aaxis\": {\"endlinecolor\": \"#2a3f5f\", \"gridcolor\": \"white\", \"linecolor\": \"white\", \"minorgridcolor\": \"white\", \"startlinecolor\": \"#2a3f5f\"}, \"baxis\": {\"endlinecolor\": \"#2a3f5f\", \"gridcolor\": \"white\", \"linecolor\": \"white\", \"minorgridcolor\": \"white\", \"startlinecolor\": \"#2a3f5f\"}, \"type\": \"carpet\"}], \"choropleth\": [{\"colorbar\": {\"outlinewidth\": 0, \"ticks\": \"\"}, \"type\": \"choropleth\"}], \"contour\": [{\"colorbar\": {\"outlinewidth\": 0, \"ticks\": \"\"}, \"colorscale\": [[0.0, \"#0d0887\"], [0.1111111111111111, \"#46039f\"], [0.2222222222222222, \"#7201a8\"], [0.3333333333333333, \"#9c179e\"], [0.4444444444444444, \"#bd3786\"], [0.5555555555555556, \"#d8576b\"], [0.6666666666666666, \"#ed7953\"], [0.7777777777777778, \"#fb9f3a\"], [0.8888888888888888, \"#fdca26\"], [1.0, \"#f0f921\"]], \"type\": \"contour\"}], \"contourcarpet\": [{\"colorbar\": {\"outlinewidth\": 0, \"ticks\": \"\"}, \"type\": \"contourcarpet\"}], \"heatmap\": [{\"colorbar\": {\"outlinewidth\": 0, \"ticks\": \"\"}, \"colorscale\": [[0.0, \"#0d0887\"], [0.1111111111111111, \"#46039f\"], [0.2222222222222222, \"#7201a8\"], [0.3333333333333333, \"#9c179e\"], [0.4444444444444444, \"#bd3786\"], [0.5555555555555556, \"#d8576b\"], [0.6666666666666666, \"#ed7953\"], [0.7777777777777778, \"#fb9f3a\"], [0.8888888888888888, \"#fdca26\"], [1.0, \"#f0f921\"]], \"type\": \"heatmap\"}], \"heatmapgl\": [{\"colorbar\": {\"outlinewidth\": 0, \"ticks\": \"\"}, \"colorscale\": [[0.0, \"#0d0887\"], [0.1111111111111111, \"#46039f\"], [0.2222222222222222, \"#7201a8\"], [0.3333333333333333, \"#9c179e\"], [0.4444444444444444, \"#bd3786\"], [0.5555555555555556, \"#d8576b\"], [0.6666666666666666, \"#ed7953\"], [0.7777777777777778, \"#fb9f3a\"], [0.8888888888888888, \"#fdca26\"], [1.0, \"#f0f921\"]], \"type\": \"heatmapgl\"}], \"histogram\": [{\"marker\": {\"colorbar\": {\"outlinewidth\": 0, \"ticks\": \"\"}}, \"type\": \"histogram\"}], \"histogram2d\": [{\"colorbar\": {\"outlinewidth\": 0, \"ticks\": \"\"}, \"colorscale\": [[0.0, \"#0d0887\"], [0.1111111111111111, \"#46039f\"], [0.2222222222222222, \"#7201a8\"], [0.3333333333333333, \"#9c179e\"], [0.4444444444444444, \"#bd3786\"], [0.5555555555555556, \"#d8576b\"], [0.6666666666666666, \"#ed7953\"], [0.7777777777777778, \"#fb9f3a\"], [0.8888888888888888, \"#fdca26\"], [1.0, \"#f0f921\"]], \"type\": \"histogram2d\"}], \"histogram2dcontour\": [{\"colorbar\": {\"outlinewidth\": 0, \"ticks\": \"\"}, \"colorscale\": [[0.0, \"#0d0887\"], [0.1111111111111111, \"#46039f\"], [0.2222222222222222, \"#7201a8\"], [0.3333333333333333, \"#9c179e\"], [0.4444444444444444, \"#bd3786\"], [0.5555555555555556, \"#d8576b\"], [0.6666666666666666, \"#ed7953\"], [0.7777777777777778, \"#fb9f3a\"], [0.8888888888888888, \"#fdca26\"], [1.0, \"#f0f921\"]], \"type\": \"histogram2dcontour\"}], \"mesh3d\": [{\"colorbar\": {\"outlinewidth\": 0, \"ticks\": \"\"}, \"type\": \"mesh3d\"}], \"parcoords\": [{\"line\": {\"colorbar\": {\"outlinewidth\": 0, \"ticks\": \"\"}}, \"type\": \"parcoords\"}], \"pie\": [{\"automargin\": true, \"type\": \"pie\"}], \"scatter\": [{\"marker\": {\"colorbar\": {\"outlinewidth\": 0, \"ticks\": \"\"}}, \"type\": \"scatter\"}], \"scatter3d\": [{\"line\": {\"colorbar\": {\"outlinewidth\": 0, \"ticks\": \"\"}}, \"marker\": {\"colorbar\": {\"outlinewidth\": 0, \"ticks\": \"\"}}, \"type\": \"scatter3d\"}], \"scattercarpet\": [{\"marker\": {\"colorbar\": {\"outlinewidth\": 0, \"ticks\": \"\"}}, \"type\": \"scattercarpet\"}], \"scattergeo\": [{\"marker\": {\"colorbar\": {\"outlinewidth\": 0, \"ticks\": \"\"}}, \"type\": \"scattergeo\"}], \"scattergl\": [{\"marker\": {\"colorbar\": {\"outlinewidth\": 0, \"ticks\": \"\"}}, \"type\": \"scattergl\"}], \"scattermapbox\": [{\"marker\": {\"colorbar\": {\"outlinewidth\": 0, \"ticks\": \"\"}}, \"type\": \"scattermapbox\"}], \"scatterpolar\": [{\"marker\": {\"colorbar\": {\"outlinewidth\": 0, \"ticks\": \"\"}}, \"type\": \"scatterpolar\"}], \"scatterpolargl\": [{\"marker\": {\"colorbar\": {\"outlinewidth\": 0, \"ticks\": \"\"}}, \"type\": \"scatterpolargl\"}], \"scatterternary\": [{\"marker\": {\"colorbar\": {\"outlinewidth\": 0, \"ticks\": \"\"}}, \"type\": \"scatterternary\"}], \"surface\": [{\"colorbar\": {\"outlinewidth\": 0, \"ticks\": \"\"}, \"colorscale\": [[0.0, \"#0d0887\"], [0.1111111111111111, \"#46039f\"], [0.2222222222222222, \"#7201a8\"], [0.3333333333333333, \"#9c179e\"], [0.4444444444444444, \"#bd3786\"], [0.5555555555555556, \"#d8576b\"], [0.6666666666666666, \"#ed7953\"], [0.7777777777777778, \"#fb9f3a\"], [0.8888888888888888, \"#fdca26\"], [1.0, \"#f0f921\"]], \"type\": \"surface\"}], \"table\": [{\"cells\": {\"fill\": {\"color\": \"#EBF0F8\"}, \"line\": {\"color\": \"white\"}}, \"header\": {\"fill\": {\"color\": \"#C8D4E3\"}, \"line\": {\"color\": \"white\"}}, \"type\": \"table\"}]}, \"layout\": {\"annotationdefaults\": {\"arrowcolor\": \"#2a3f5f\", \"arrowhead\": 0, \"arrowwidth\": 1}, \"coloraxis\": {\"colorbar\": {\"outlinewidth\": 0, \"ticks\": \"\"}}, \"colorscale\": {\"diverging\": [[0, \"#8e0152\"], [0.1, \"#c51b7d\"], [0.2, \"#de77ae\"], [0.3, \"#f1b6da\"], [0.4, \"#fde0ef\"], [0.5, \"#f7f7f7\"], [0.6, \"#e6f5d0\"], [0.7, \"#b8e186\"], [0.8, \"#7fbc41\"], [0.9, \"#4d9221\"], [1, \"#276419\"]], \"sequential\": [[0.0, \"#0d0887\"], [0.1111111111111111, \"#46039f\"], [0.2222222222222222, \"#7201a8\"], [0.3333333333333333, \"#9c179e\"], [0.4444444444444444, \"#bd3786\"], [0.5555555555555556, \"#d8576b\"], [0.6666666666666666, \"#ed7953\"], [0.7777777777777778, \"#fb9f3a\"], [0.8888888888888888, \"#fdca26\"], [1.0, \"#f0f921\"]], \"sequentialminus\": [[0.0, \"#0d0887\"], [0.1111111111111111, \"#46039f\"], [0.2222222222222222, \"#7201a8\"], [0.3333333333333333, \"#9c179e\"], [0.4444444444444444, \"#bd3786\"], [0.5555555555555556, \"#d8576b\"], [0.6666666666666666, \"#ed7953\"], [0.7777777777777778, \"#fb9f3a\"], [0.8888888888888888, \"#fdca26\"], [1.0, \"#f0f921\"]]}, \"colorway\": [\"#636efa\", \"#EF553B\", \"#00cc96\", \"#ab63fa\", \"#FFA15A\", \"#19d3f3\", \"#FF6692\", \"#B6E880\", \"#FF97FF\", \"#FECB52\"], \"font\": {\"color\": \"#2a3f5f\"}, \"geo\": {\"bgcolor\": \"white\", \"lakecolor\": \"white\", \"landcolor\": \"#E5ECF6\", \"showlakes\": true, \"showland\": true, \"subunitcolor\": \"white\"}, \"hoverlabel\": {\"align\": \"left\"}, \"hovermode\": \"closest\", \"mapbox\": {\"style\": \"light\"}, \"paper_bgcolor\": \"white\", \"plot_bgcolor\": \"#E5ECF6\", \"polar\": {\"angularaxis\": {\"gridcolor\": \"white\", \"linecolor\": \"white\", \"ticks\": \"\"}, \"bgcolor\": \"#E5ECF6\", \"radialaxis\": {\"gridcolor\": \"white\", \"linecolor\": \"white\", \"ticks\": \"\"}}, \"scene\": {\"xaxis\": {\"backgroundcolor\": \"#E5ECF6\", \"gridcolor\": \"white\", \"gridwidth\": 2, \"linecolor\": \"white\", \"showbackground\": true, \"ticks\": \"\", \"zerolinecolor\": \"white\"}, \"yaxis\": {\"backgroundcolor\": \"#E5ECF6\", \"gridcolor\": \"white\", \"gridwidth\": 2, \"linecolor\": \"white\", \"showbackground\": true, \"ticks\": \"\", \"zerolinecolor\": \"white\"}, \"zaxis\": {\"backgroundcolor\": \"#E5ECF6\", \"gridcolor\": \"white\", \"gridwidth\": 2, \"linecolor\": \"white\", \"showbackground\": true, \"ticks\": \"\", \"zerolinecolor\": \"white\"}}, \"shapedefaults\": {\"line\": {\"color\": \"#2a3f5f\"}}, \"ternary\": {\"aaxis\": {\"gridcolor\": \"white\", \"linecolor\": \"white\", \"ticks\": \"\"}, \"baxis\": {\"gridcolor\": \"white\", \"linecolor\": \"white\", \"ticks\": \"\"}, \"bgcolor\": \"#E5ECF6\", \"caxis\": {\"gridcolor\": \"white\", \"linecolor\": \"white\", \"ticks\": \"\"}}, \"title\": {\"x\": 0.05}, \"xaxis\": {\"automargin\": true, \"gridcolor\": \"white\", \"linecolor\": \"white\", \"ticks\": \"\", \"title\": {\"standoff\": 15}, \"zerolinecolor\": \"white\", \"zerolinewidth\": 2}, \"yaxis\": {\"automargin\": true, \"gridcolor\": \"white\", \"linecolor\": \"white\", \"ticks\": \"\", \"title\": {\"standoff\": 15}, \"zerolinecolor\": \"white\", \"zerolinewidth\": 2}}}, \"title\": {\"text\": \"Top 10 worst affected countries\"}, \"width\": 800, \"xaxis\": {\"anchor\": \"y\", \"domain\": [0.0, 1.0], \"title\": {\"text\": \"country\"}}, \"yaxis\": {\"anchor\": \"x\", \"domain\": [0.0, 1.0], \"title\": {\"text\": \"confirmed\"}}},\n",
       "                        {\"responsive\": true}\n",
       "                    ).then(function(){\n",
       "                            \n",
       "var gd = document.getElementById('07c05b94-4b6f-466e-89c0-5dc96a614949');\n",
       "var x = new MutationObserver(function (mutations, observer) {{\n",
       "        var display = window.getComputedStyle(gd).display;\n",
       "        if (!display || display === 'none') {{\n",
       "            console.log([gd, 'removed!']);\n",
       "            Plotly.purge(gd);\n",
       "            observer.disconnect();\n",
       "        }}\n",
       "}});\n",
       "\n",
       "// Listen for the removal of the full notebook cells\n",
       "var notebookContainer = gd.closest('#notebook-container');\n",
       "if (notebookContainer) {{\n",
       "    x.observe(notebookContainer, {childList: true});\n",
       "}}\n",
       "\n",
       "// Listen for the clearing of the current output cell\n",
       "var outputEl = gd.closest('.output');\n",
       "if (outputEl) {{\n",
       "    x.observe(outputEl, {childList: true});\n",
       "}}\n",
       "\n",
       "                        })\n",
       "                };\n",
       "                });\n",
       "            </script>\n",
       "        </div>"
      ]
     },
     "metadata": {},
     "output_type": "display_data"
    }
   ],
   "source": [
    "px.bar(\n",
    "    sorted_country_df.head(10),\n",
    "    x = \"country\",\n",
    "    y = \"confirmed\",\n",
    "    title= \"Top 10 worst affected countries\", # the axis names\n",
    "    color_discrete_sequence=[\"pink\"], \n",
    "    height=500,\n",
    "    width=800\n",
    ")"
   ]
  },
  {
   "cell_type": "markdown",
   "metadata": {},
   "source": [
    "# 10 worst hit countries - Death cases"
   ]
  },
  {
   "cell_type": "code",
   "execution_count": 16,
   "metadata": {},
   "outputs": [
    {
     "data": {
      "application/vnd.plotly.v1+json": {
       "config": {
        "plotlyServerURL": "https://plot.ly"
       },
       "data": [
        {
         "alignmentgroup": "True",
         "hoverlabel": {
          "namelength": 0
         },
         "hovertemplate": "country=%{x}<br>deaths=%{y}",
         "legendgroup": "",
         "marker": {
          "color": "pink"
         },
         "name": "",
         "offsetgroup": "",
         "orientation": "v",
         "showlegend": false,
         "textposition": "auto",
         "type": "bar",
         "x": [
          "US",
          "Spain",
          "Italy",
          "Germany",
          "France",
          "China",
          "Iran",
          "United Kingdom",
          "Turkey",
          "Switzerland"
         ],
         "xaxis": "x",
         "y": [
          9132,
          12418,
          15362,
          1479,
          7574,
          3333,
          3603,
          4942,
          501,
          685
         ],
         "yaxis": "y"
        }
       ],
       "layout": {
        "barmode": "relative",
        "height": 500,
        "legend": {
         "tracegroupgap": 0
        },
        "template": {
         "data": {
          "bar": [
           {
            "error_x": {
             "color": "#2a3f5f"
            },
            "error_y": {
             "color": "#2a3f5f"
            },
            "marker": {
             "line": {
              "color": "#E5ECF6",
              "width": 0.5
             }
            },
            "type": "bar"
           }
          ],
          "barpolar": [
           {
            "marker": {
             "line": {
              "color": "#E5ECF6",
              "width": 0.5
             }
            },
            "type": "barpolar"
           }
          ],
          "carpet": [
           {
            "aaxis": {
             "endlinecolor": "#2a3f5f",
             "gridcolor": "white",
             "linecolor": "white",
             "minorgridcolor": "white",
             "startlinecolor": "#2a3f5f"
            },
            "baxis": {
             "endlinecolor": "#2a3f5f",
             "gridcolor": "white",
             "linecolor": "white",
             "minorgridcolor": "white",
             "startlinecolor": "#2a3f5f"
            },
            "type": "carpet"
           }
          ],
          "choropleth": [
           {
            "colorbar": {
             "outlinewidth": 0,
             "ticks": ""
            },
            "type": "choropleth"
           }
          ],
          "contour": [
           {
            "colorbar": {
             "outlinewidth": 0,
             "ticks": ""
            },
            "colorscale": [
             [
              0,
              "#0d0887"
             ],
             [
              0.1111111111111111,
              "#46039f"
             ],
             [
              0.2222222222222222,
              "#7201a8"
             ],
             [
              0.3333333333333333,
              "#9c179e"
             ],
             [
              0.4444444444444444,
              "#bd3786"
             ],
             [
              0.5555555555555556,
              "#d8576b"
             ],
             [
              0.6666666666666666,
              "#ed7953"
             ],
             [
              0.7777777777777778,
              "#fb9f3a"
             ],
             [
              0.8888888888888888,
              "#fdca26"
             ],
             [
              1,
              "#f0f921"
             ]
            ],
            "type": "contour"
           }
          ],
          "contourcarpet": [
           {
            "colorbar": {
             "outlinewidth": 0,
             "ticks": ""
            },
            "type": "contourcarpet"
           }
          ],
          "heatmap": [
           {
            "colorbar": {
             "outlinewidth": 0,
             "ticks": ""
            },
            "colorscale": [
             [
              0,
              "#0d0887"
             ],
             [
              0.1111111111111111,
              "#46039f"
             ],
             [
              0.2222222222222222,
              "#7201a8"
             ],
             [
              0.3333333333333333,
              "#9c179e"
             ],
             [
              0.4444444444444444,
              "#bd3786"
             ],
             [
              0.5555555555555556,
              "#d8576b"
             ],
             [
              0.6666666666666666,
              "#ed7953"
             ],
             [
              0.7777777777777778,
              "#fb9f3a"
             ],
             [
              0.8888888888888888,
              "#fdca26"
             ],
             [
              1,
              "#f0f921"
             ]
            ],
            "type": "heatmap"
           }
          ],
          "heatmapgl": [
           {
            "colorbar": {
             "outlinewidth": 0,
             "ticks": ""
            },
            "colorscale": [
             [
              0,
              "#0d0887"
             ],
             [
              0.1111111111111111,
              "#46039f"
             ],
             [
              0.2222222222222222,
              "#7201a8"
             ],
             [
              0.3333333333333333,
              "#9c179e"
             ],
             [
              0.4444444444444444,
              "#bd3786"
             ],
             [
              0.5555555555555556,
              "#d8576b"
             ],
             [
              0.6666666666666666,
              "#ed7953"
             ],
             [
              0.7777777777777778,
              "#fb9f3a"
             ],
             [
              0.8888888888888888,
              "#fdca26"
             ],
             [
              1,
              "#f0f921"
             ]
            ],
            "type": "heatmapgl"
           }
          ],
          "histogram": [
           {
            "marker": {
             "colorbar": {
              "outlinewidth": 0,
              "ticks": ""
             }
            },
            "type": "histogram"
           }
          ],
          "histogram2d": [
           {
            "colorbar": {
             "outlinewidth": 0,
             "ticks": ""
            },
            "colorscale": [
             [
              0,
              "#0d0887"
             ],
             [
              0.1111111111111111,
              "#46039f"
             ],
             [
              0.2222222222222222,
              "#7201a8"
             ],
             [
              0.3333333333333333,
              "#9c179e"
             ],
             [
              0.4444444444444444,
              "#bd3786"
             ],
             [
              0.5555555555555556,
              "#d8576b"
             ],
             [
              0.6666666666666666,
              "#ed7953"
             ],
             [
              0.7777777777777778,
              "#fb9f3a"
             ],
             [
              0.8888888888888888,
              "#fdca26"
             ],
             [
              1,
              "#f0f921"
             ]
            ],
            "type": "histogram2d"
           }
          ],
          "histogram2dcontour": [
           {
            "colorbar": {
             "outlinewidth": 0,
             "ticks": ""
            },
            "colorscale": [
             [
              0,
              "#0d0887"
             ],
             [
              0.1111111111111111,
              "#46039f"
             ],
             [
              0.2222222222222222,
              "#7201a8"
             ],
             [
              0.3333333333333333,
              "#9c179e"
             ],
             [
              0.4444444444444444,
              "#bd3786"
             ],
             [
              0.5555555555555556,
              "#d8576b"
             ],
             [
              0.6666666666666666,
              "#ed7953"
             ],
             [
              0.7777777777777778,
              "#fb9f3a"
             ],
             [
              0.8888888888888888,
              "#fdca26"
             ],
             [
              1,
              "#f0f921"
             ]
            ],
            "type": "histogram2dcontour"
           }
          ],
          "mesh3d": [
           {
            "colorbar": {
             "outlinewidth": 0,
             "ticks": ""
            },
            "type": "mesh3d"
           }
          ],
          "parcoords": [
           {
            "line": {
             "colorbar": {
              "outlinewidth": 0,
              "ticks": ""
             }
            },
            "type": "parcoords"
           }
          ],
          "pie": [
           {
            "automargin": true,
            "type": "pie"
           }
          ],
          "scatter": [
           {
            "marker": {
             "colorbar": {
              "outlinewidth": 0,
              "ticks": ""
             }
            },
            "type": "scatter"
           }
          ],
          "scatter3d": [
           {
            "line": {
             "colorbar": {
              "outlinewidth": 0,
              "ticks": ""
             }
            },
            "marker": {
             "colorbar": {
              "outlinewidth": 0,
              "ticks": ""
             }
            },
            "type": "scatter3d"
           }
          ],
          "scattercarpet": [
           {
            "marker": {
             "colorbar": {
              "outlinewidth": 0,
              "ticks": ""
             }
            },
            "type": "scattercarpet"
           }
          ],
          "scattergeo": [
           {
            "marker": {
             "colorbar": {
              "outlinewidth": 0,
              "ticks": ""
             }
            },
            "type": "scattergeo"
           }
          ],
          "scattergl": [
           {
            "marker": {
             "colorbar": {
              "outlinewidth": 0,
              "ticks": ""
             }
            },
            "type": "scattergl"
           }
          ],
          "scattermapbox": [
           {
            "marker": {
             "colorbar": {
              "outlinewidth": 0,
              "ticks": ""
             }
            },
            "type": "scattermapbox"
           }
          ],
          "scatterpolar": [
           {
            "marker": {
             "colorbar": {
              "outlinewidth": 0,
              "ticks": ""
             }
            },
            "type": "scatterpolar"
           }
          ],
          "scatterpolargl": [
           {
            "marker": {
             "colorbar": {
              "outlinewidth": 0,
              "ticks": ""
             }
            },
            "type": "scatterpolargl"
           }
          ],
          "scatterternary": [
           {
            "marker": {
             "colorbar": {
              "outlinewidth": 0,
              "ticks": ""
             }
            },
            "type": "scatterternary"
           }
          ],
          "surface": [
           {
            "colorbar": {
             "outlinewidth": 0,
             "ticks": ""
            },
            "colorscale": [
             [
              0,
              "#0d0887"
             ],
             [
              0.1111111111111111,
              "#46039f"
             ],
             [
              0.2222222222222222,
              "#7201a8"
             ],
             [
              0.3333333333333333,
              "#9c179e"
             ],
             [
              0.4444444444444444,
              "#bd3786"
             ],
             [
              0.5555555555555556,
              "#d8576b"
             ],
             [
              0.6666666666666666,
              "#ed7953"
             ],
             [
              0.7777777777777778,
              "#fb9f3a"
             ],
             [
              0.8888888888888888,
              "#fdca26"
             ],
             [
              1,
              "#f0f921"
             ]
            ],
            "type": "surface"
           }
          ],
          "table": [
           {
            "cells": {
             "fill": {
              "color": "#EBF0F8"
             },
             "line": {
              "color": "white"
             }
            },
            "header": {
             "fill": {
              "color": "#C8D4E3"
             },
             "line": {
              "color": "white"
             }
            },
            "type": "table"
           }
          ]
         },
         "layout": {
          "annotationdefaults": {
           "arrowcolor": "#2a3f5f",
           "arrowhead": 0,
           "arrowwidth": 1
          },
          "coloraxis": {
           "colorbar": {
            "outlinewidth": 0,
            "ticks": ""
           }
          },
          "colorscale": {
           "diverging": [
            [
             0,
             "#8e0152"
            ],
            [
             0.1,
             "#c51b7d"
            ],
            [
             0.2,
             "#de77ae"
            ],
            [
             0.3,
             "#f1b6da"
            ],
            [
             0.4,
             "#fde0ef"
            ],
            [
             0.5,
             "#f7f7f7"
            ],
            [
             0.6,
             "#e6f5d0"
            ],
            [
             0.7,
             "#b8e186"
            ],
            [
             0.8,
             "#7fbc41"
            ],
            [
             0.9,
             "#4d9221"
            ],
            [
             1,
             "#276419"
            ]
           ],
           "sequential": [
            [
             0,
             "#0d0887"
            ],
            [
             0.1111111111111111,
             "#46039f"
            ],
            [
             0.2222222222222222,
             "#7201a8"
            ],
            [
             0.3333333333333333,
             "#9c179e"
            ],
            [
             0.4444444444444444,
             "#bd3786"
            ],
            [
             0.5555555555555556,
             "#d8576b"
            ],
            [
             0.6666666666666666,
             "#ed7953"
            ],
            [
             0.7777777777777778,
             "#fb9f3a"
            ],
            [
             0.8888888888888888,
             "#fdca26"
            ],
            [
             1,
             "#f0f921"
            ]
           ],
           "sequentialminus": [
            [
             0,
             "#0d0887"
            ],
            [
             0.1111111111111111,
             "#46039f"
            ],
            [
             0.2222222222222222,
             "#7201a8"
            ],
            [
             0.3333333333333333,
             "#9c179e"
            ],
            [
             0.4444444444444444,
             "#bd3786"
            ],
            [
             0.5555555555555556,
             "#d8576b"
            ],
            [
             0.6666666666666666,
             "#ed7953"
            ],
            [
             0.7777777777777778,
             "#fb9f3a"
            ],
            [
             0.8888888888888888,
             "#fdca26"
            ],
            [
             1,
             "#f0f921"
            ]
           ]
          },
          "colorway": [
           "#636efa",
           "#EF553B",
           "#00cc96",
           "#ab63fa",
           "#FFA15A",
           "#19d3f3",
           "#FF6692",
           "#B6E880",
           "#FF97FF",
           "#FECB52"
          ],
          "font": {
           "color": "#2a3f5f"
          },
          "geo": {
           "bgcolor": "white",
           "lakecolor": "white",
           "landcolor": "#E5ECF6",
           "showlakes": true,
           "showland": true,
           "subunitcolor": "white"
          },
          "hoverlabel": {
           "align": "left"
          },
          "hovermode": "closest",
          "mapbox": {
           "style": "light"
          },
          "paper_bgcolor": "white",
          "plot_bgcolor": "#E5ECF6",
          "polar": {
           "angularaxis": {
            "gridcolor": "white",
            "linecolor": "white",
            "ticks": ""
           },
           "bgcolor": "#E5ECF6",
           "radialaxis": {
            "gridcolor": "white",
            "linecolor": "white",
            "ticks": ""
           }
          },
          "scene": {
           "xaxis": {
            "backgroundcolor": "#E5ECF6",
            "gridcolor": "white",
            "gridwidth": 2,
            "linecolor": "white",
            "showbackground": true,
            "ticks": "",
            "zerolinecolor": "white"
           },
           "yaxis": {
            "backgroundcolor": "#E5ECF6",
            "gridcolor": "white",
            "gridwidth": 2,
            "linecolor": "white",
            "showbackground": true,
            "ticks": "",
            "zerolinecolor": "white"
           },
           "zaxis": {
            "backgroundcolor": "#E5ECF6",
            "gridcolor": "white",
            "gridwidth": 2,
            "linecolor": "white",
            "showbackground": true,
            "ticks": "",
            "zerolinecolor": "white"
           }
          },
          "shapedefaults": {
           "line": {
            "color": "#2a3f5f"
           }
          },
          "ternary": {
           "aaxis": {
            "gridcolor": "white",
            "linecolor": "white",
            "ticks": ""
           },
           "baxis": {
            "gridcolor": "white",
            "linecolor": "white",
            "ticks": ""
           },
           "bgcolor": "#E5ECF6",
           "caxis": {
            "gridcolor": "white",
            "linecolor": "white",
            "ticks": ""
           }
          },
          "title": {
           "x": 0.05
          },
          "xaxis": {
           "automargin": true,
           "gridcolor": "white",
           "linecolor": "white",
           "ticks": "",
           "title": {
            "standoff": 15
           },
           "zerolinecolor": "white",
           "zerolinewidth": 2
          },
          "yaxis": {
           "automargin": true,
           "gridcolor": "white",
           "linecolor": "white",
           "ticks": "",
           "title": {
            "standoff": 15
           },
           "zerolinecolor": "white",
           "zerolinewidth": 2
          }
         }
        },
        "title": {
         "text": "Top 10 worst affected countries"
        },
        "width": 800,
        "xaxis": {
         "anchor": "y",
         "domain": [
          0,
          1
         ],
         "title": {
          "text": "country"
         }
        },
        "yaxis": {
         "anchor": "x",
         "domain": [
          0,
          1
         ],
         "title": {
          "text": "deaths"
         }
        }
       }
      },
      "text/html": [
       "<div>\n",
       "        \n",
       "        \n",
       "            <div id=\"38dd6de9-1416-480d-95a7-c240fdd5e371\" class=\"plotly-graph-div\" style=\"height:500px; width:800px;\"></div>\n",
       "            <script type=\"text/javascript\">\n",
       "                require([\"plotly\"], function(Plotly) {\n",
       "                    window.PLOTLYENV=window.PLOTLYENV || {};\n",
       "                    \n",
       "                if (document.getElementById(\"38dd6de9-1416-480d-95a7-c240fdd5e371\")) {\n",
       "                    Plotly.newPlot(\n",
       "                        '38dd6de9-1416-480d-95a7-c240fdd5e371',\n",
       "                        [{\"alignmentgroup\": \"True\", \"hoverlabel\": {\"namelength\": 0}, \"hovertemplate\": \"country=%{x}<br>deaths=%{y}\", \"legendgroup\": \"\", \"marker\": {\"color\": \"pink\"}, \"name\": \"\", \"offsetgroup\": \"\", \"orientation\": \"v\", \"showlegend\": false, \"textposition\": \"auto\", \"type\": \"bar\", \"x\": [\"US\", \"Spain\", \"Italy\", \"Germany\", \"France\", \"China\", \"Iran\", \"United Kingdom\", \"Turkey\", \"Switzerland\"], \"xaxis\": \"x\", \"y\": [9132, 12418, 15362, 1479, 7574, 3333, 3603, 4942, 501, 685], \"yaxis\": \"y\"}],\n",
       "                        {\"barmode\": \"relative\", \"height\": 500, \"legend\": {\"tracegroupgap\": 0}, \"template\": {\"data\": {\"bar\": [{\"error_x\": {\"color\": \"#2a3f5f\"}, \"error_y\": {\"color\": \"#2a3f5f\"}, \"marker\": {\"line\": {\"color\": \"#E5ECF6\", \"width\": 0.5}}, \"type\": \"bar\"}], \"barpolar\": [{\"marker\": {\"line\": {\"color\": \"#E5ECF6\", \"width\": 0.5}}, \"type\": \"barpolar\"}], \"carpet\": [{\"aaxis\": {\"endlinecolor\": \"#2a3f5f\", \"gridcolor\": \"white\", \"linecolor\": \"white\", \"minorgridcolor\": \"white\", \"startlinecolor\": \"#2a3f5f\"}, \"baxis\": {\"endlinecolor\": \"#2a3f5f\", \"gridcolor\": \"white\", \"linecolor\": \"white\", \"minorgridcolor\": \"white\", \"startlinecolor\": \"#2a3f5f\"}, \"type\": \"carpet\"}], \"choropleth\": [{\"colorbar\": {\"outlinewidth\": 0, \"ticks\": \"\"}, \"type\": \"choropleth\"}], \"contour\": [{\"colorbar\": {\"outlinewidth\": 0, \"ticks\": \"\"}, \"colorscale\": [[0.0, \"#0d0887\"], [0.1111111111111111, \"#46039f\"], [0.2222222222222222, \"#7201a8\"], [0.3333333333333333, \"#9c179e\"], [0.4444444444444444, \"#bd3786\"], [0.5555555555555556, \"#d8576b\"], [0.6666666666666666, \"#ed7953\"], [0.7777777777777778, \"#fb9f3a\"], [0.8888888888888888, \"#fdca26\"], [1.0, \"#f0f921\"]], \"type\": \"contour\"}], \"contourcarpet\": [{\"colorbar\": {\"outlinewidth\": 0, \"ticks\": \"\"}, \"type\": \"contourcarpet\"}], \"heatmap\": [{\"colorbar\": {\"outlinewidth\": 0, \"ticks\": \"\"}, \"colorscale\": [[0.0, \"#0d0887\"], [0.1111111111111111, \"#46039f\"], [0.2222222222222222, \"#7201a8\"], [0.3333333333333333, \"#9c179e\"], [0.4444444444444444, \"#bd3786\"], [0.5555555555555556, \"#d8576b\"], [0.6666666666666666, \"#ed7953\"], [0.7777777777777778, \"#fb9f3a\"], [0.8888888888888888, \"#fdca26\"], [1.0, \"#f0f921\"]], \"type\": \"heatmap\"}], \"heatmapgl\": [{\"colorbar\": {\"outlinewidth\": 0, \"ticks\": \"\"}, \"colorscale\": [[0.0, \"#0d0887\"], [0.1111111111111111, \"#46039f\"], [0.2222222222222222, \"#7201a8\"], [0.3333333333333333, \"#9c179e\"], [0.4444444444444444, \"#bd3786\"], [0.5555555555555556, \"#d8576b\"], [0.6666666666666666, \"#ed7953\"], [0.7777777777777778, \"#fb9f3a\"], [0.8888888888888888, \"#fdca26\"], [1.0, \"#f0f921\"]], \"type\": \"heatmapgl\"}], \"histogram\": [{\"marker\": {\"colorbar\": {\"outlinewidth\": 0, \"ticks\": \"\"}}, \"type\": \"histogram\"}], \"histogram2d\": [{\"colorbar\": {\"outlinewidth\": 0, \"ticks\": \"\"}, \"colorscale\": [[0.0, \"#0d0887\"], [0.1111111111111111, \"#46039f\"], [0.2222222222222222, \"#7201a8\"], [0.3333333333333333, \"#9c179e\"], [0.4444444444444444, \"#bd3786\"], [0.5555555555555556, \"#d8576b\"], [0.6666666666666666, \"#ed7953\"], [0.7777777777777778, \"#fb9f3a\"], [0.8888888888888888, \"#fdca26\"], [1.0, \"#f0f921\"]], \"type\": \"histogram2d\"}], \"histogram2dcontour\": [{\"colorbar\": {\"outlinewidth\": 0, \"ticks\": \"\"}, \"colorscale\": [[0.0, \"#0d0887\"], [0.1111111111111111, \"#46039f\"], [0.2222222222222222, \"#7201a8\"], [0.3333333333333333, \"#9c179e\"], [0.4444444444444444, \"#bd3786\"], [0.5555555555555556, \"#d8576b\"], [0.6666666666666666, \"#ed7953\"], [0.7777777777777778, \"#fb9f3a\"], [0.8888888888888888, \"#fdca26\"], [1.0, \"#f0f921\"]], \"type\": \"histogram2dcontour\"}], \"mesh3d\": [{\"colorbar\": {\"outlinewidth\": 0, \"ticks\": \"\"}, \"type\": \"mesh3d\"}], \"parcoords\": [{\"line\": {\"colorbar\": {\"outlinewidth\": 0, \"ticks\": \"\"}}, \"type\": \"parcoords\"}], \"pie\": [{\"automargin\": true, \"type\": \"pie\"}], \"scatter\": [{\"marker\": {\"colorbar\": {\"outlinewidth\": 0, \"ticks\": \"\"}}, \"type\": \"scatter\"}], \"scatter3d\": [{\"line\": {\"colorbar\": {\"outlinewidth\": 0, \"ticks\": \"\"}}, \"marker\": {\"colorbar\": {\"outlinewidth\": 0, \"ticks\": \"\"}}, \"type\": \"scatter3d\"}], \"scattercarpet\": [{\"marker\": {\"colorbar\": {\"outlinewidth\": 0, \"ticks\": \"\"}}, \"type\": \"scattercarpet\"}], \"scattergeo\": [{\"marker\": {\"colorbar\": {\"outlinewidth\": 0, \"ticks\": \"\"}}, \"type\": \"scattergeo\"}], \"scattergl\": [{\"marker\": {\"colorbar\": {\"outlinewidth\": 0, \"ticks\": \"\"}}, \"type\": \"scattergl\"}], \"scattermapbox\": [{\"marker\": {\"colorbar\": {\"outlinewidth\": 0, \"ticks\": \"\"}}, \"type\": \"scattermapbox\"}], \"scatterpolar\": [{\"marker\": {\"colorbar\": {\"outlinewidth\": 0, \"ticks\": \"\"}}, \"type\": \"scatterpolar\"}], \"scatterpolargl\": [{\"marker\": {\"colorbar\": {\"outlinewidth\": 0, \"ticks\": \"\"}}, \"type\": \"scatterpolargl\"}], \"scatterternary\": [{\"marker\": {\"colorbar\": {\"outlinewidth\": 0, \"ticks\": \"\"}}, \"type\": \"scatterternary\"}], \"surface\": [{\"colorbar\": {\"outlinewidth\": 0, \"ticks\": \"\"}, \"colorscale\": [[0.0, \"#0d0887\"], [0.1111111111111111, \"#46039f\"], [0.2222222222222222, \"#7201a8\"], [0.3333333333333333, \"#9c179e\"], [0.4444444444444444, \"#bd3786\"], [0.5555555555555556, \"#d8576b\"], [0.6666666666666666, \"#ed7953\"], [0.7777777777777778, \"#fb9f3a\"], [0.8888888888888888, \"#fdca26\"], [1.0, \"#f0f921\"]], \"type\": \"surface\"}], \"table\": [{\"cells\": {\"fill\": {\"color\": \"#EBF0F8\"}, \"line\": {\"color\": \"white\"}}, \"header\": {\"fill\": {\"color\": \"#C8D4E3\"}, \"line\": {\"color\": \"white\"}}, \"type\": \"table\"}]}, \"layout\": {\"annotationdefaults\": {\"arrowcolor\": \"#2a3f5f\", \"arrowhead\": 0, \"arrowwidth\": 1}, \"coloraxis\": {\"colorbar\": {\"outlinewidth\": 0, \"ticks\": \"\"}}, \"colorscale\": {\"diverging\": [[0, \"#8e0152\"], [0.1, \"#c51b7d\"], [0.2, \"#de77ae\"], [0.3, \"#f1b6da\"], [0.4, \"#fde0ef\"], [0.5, \"#f7f7f7\"], [0.6, \"#e6f5d0\"], [0.7, \"#b8e186\"], [0.8, \"#7fbc41\"], [0.9, \"#4d9221\"], [1, \"#276419\"]], \"sequential\": [[0.0, \"#0d0887\"], [0.1111111111111111, \"#46039f\"], [0.2222222222222222, \"#7201a8\"], [0.3333333333333333, \"#9c179e\"], [0.4444444444444444, \"#bd3786\"], [0.5555555555555556, \"#d8576b\"], [0.6666666666666666, \"#ed7953\"], [0.7777777777777778, \"#fb9f3a\"], [0.8888888888888888, \"#fdca26\"], [1.0, \"#f0f921\"]], \"sequentialminus\": [[0.0, \"#0d0887\"], [0.1111111111111111, \"#46039f\"], [0.2222222222222222, \"#7201a8\"], [0.3333333333333333, \"#9c179e\"], [0.4444444444444444, \"#bd3786\"], [0.5555555555555556, \"#d8576b\"], [0.6666666666666666, \"#ed7953\"], [0.7777777777777778, \"#fb9f3a\"], [0.8888888888888888, \"#fdca26\"], [1.0, \"#f0f921\"]]}, \"colorway\": [\"#636efa\", \"#EF553B\", \"#00cc96\", \"#ab63fa\", \"#FFA15A\", \"#19d3f3\", \"#FF6692\", \"#B6E880\", \"#FF97FF\", \"#FECB52\"], \"font\": {\"color\": \"#2a3f5f\"}, \"geo\": {\"bgcolor\": \"white\", \"lakecolor\": \"white\", \"landcolor\": \"#E5ECF6\", \"showlakes\": true, \"showland\": true, \"subunitcolor\": \"white\"}, \"hoverlabel\": {\"align\": \"left\"}, \"hovermode\": \"closest\", \"mapbox\": {\"style\": \"light\"}, \"paper_bgcolor\": \"white\", \"plot_bgcolor\": \"#E5ECF6\", \"polar\": {\"angularaxis\": {\"gridcolor\": \"white\", \"linecolor\": \"white\", \"ticks\": \"\"}, \"bgcolor\": \"#E5ECF6\", \"radialaxis\": {\"gridcolor\": \"white\", \"linecolor\": \"white\", \"ticks\": \"\"}}, \"scene\": {\"xaxis\": {\"backgroundcolor\": \"#E5ECF6\", \"gridcolor\": \"white\", \"gridwidth\": 2, \"linecolor\": \"white\", \"showbackground\": true, \"ticks\": \"\", \"zerolinecolor\": \"white\"}, \"yaxis\": {\"backgroundcolor\": \"#E5ECF6\", \"gridcolor\": \"white\", \"gridwidth\": 2, \"linecolor\": \"white\", \"showbackground\": true, \"ticks\": \"\", \"zerolinecolor\": \"white\"}, \"zaxis\": {\"backgroundcolor\": \"#E5ECF6\", \"gridcolor\": \"white\", \"gridwidth\": 2, \"linecolor\": \"white\", \"showbackground\": true, \"ticks\": \"\", \"zerolinecolor\": \"white\"}}, \"shapedefaults\": {\"line\": {\"color\": \"#2a3f5f\"}}, \"ternary\": {\"aaxis\": {\"gridcolor\": \"white\", \"linecolor\": \"white\", \"ticks\": \"\"}, \"baxis\": {\"gridcolor\": \"white\", \"linecolor\": \"white\", \"ticks\": \"\"}, \"bgcolor\": \"#E5ECF6\", \"caxis\": {\"gridcolor\": \"white\", \"linecolor\": \"white\", \"ticks\": \"\"}}, \"title\": {\"x\": 0.05}, \"xaxis\": {\"automargin\": true, \"gridcolor\": \"white\", \"linecolor\": \"white\", \"ticks\": \"\", \"title\": {\"standoff\": 15}, \"zerolinecolor\": \"white\", \"zerolinewidth\": 2}, \"yaxis\": {\"automargin\": true, \"gridcolor\": \"white\", \"linecolor\": \"white\", \"ticks\": \"\", \"title\": {\"standoff\": 15}, \"zerolinecolor\": \"white\", \"zerolinewidth\": 2}}}, \"title\": {\"text\": \"Top 10 worst affected countries\"}, \"width\": 800, \"xaxis\": {\"anchor\": \"y\", \"domain\": [0.0, 1.0], \"title\": {\"text\": \"country\"}}, \"yaxis\": {\"anchor\": \"x\", \"domain\": [0.0, 1.0], \"title\": {\"text\": \"deaths\"}}},\n",
       "                        {\"responsive\": true}\n",
       "                    ).then(function(){\n",
       "                            \n",
       "var gd = document.getElementById('38dd6de9-1416-480d-95a7-c240fdd5e371');\n",
       "var x = new MutationObserver(function (mutations, observer) {{\n",
       "        var display = window.getComputedStyle(gd).display;\n",
       "        if (!display || display === 'none') {{\n",
       "            console.log([gd, 'removed!']);\n",
       "            Plotly.purge(gd);\n",
       "            observer.disconnect();\n",
       "        }}\n",
       "}});\n",
       "\n",
       "// Listen for the removal of the full notebook cells\n",
       "var notebookContainer = gd.closest('#notebook-container');\n",
       "if (notebookContainer) {{\n",
       "    x.observe(notebookContainer, {childList: true});\n",
       "}}\n",
       "\n",
       "// Listen for the clearing of the current output cell\n",
       "var outputEl = gd.closest('.output');\n",
       "if (outputEl) {{\n",
       "    x.observe(outputEl, {childList: true});\n",
       "}}\n",
       "\n",
       "                        })\n",
       "                };\n",
       "                });\n",
       "            </script>\n",
       "        </div>"
      ]
     },
     "metadata": {},
     "output_type": "display_data"
    }
   ],
   "source": [
    "px.bar(\n",
    "    sorted_country_df.head(10),\n",
    "    x = \"country\",\n",
    "    y = \"deaths\",\n",
    "    title= \"Top 10 worst affected countries\", # the axis names\n",
    "    color_discrete_sequence=[\"pink\"], \n",
    "    height=500,\n",
    "    width=800\n",
    ")"
   ]
  },
  {
   "cell_type": "markdown",
   "metadata": {},
   "source": [
    "# Worst hit countries - Recovering cases"
   ]
  },
  {
   "cell_type": "code",
   "execution_count": 17,
   "metadata": {},
   "outputs": [
    {
     "data": {
      "application/vnd.plotly.v1+json": {
       "config": {
        "plotlyServerURL": "https://plot.ly"
       },
       "data": [
        {
         "alignmentgroup": "True",
         "hoverlabel": {
          "namelength": 0
         },
         "hovertemplate": "country=%{x}<br>recovered=%{y}",
         "legendgroup": "",
         "marker": {
          "color": "pink"
         },
         "name": "",
         "offsetgroup": "",
         "orientation": "v",
         "showlegend": false,
         "textposition": "auto",
         "type": "bar",
         "x": [
          "US",
          "Spain",
          "Italy",
          "Germany",
          "France",
          "China",
          "Iran",
          "United Kingdom",
          "Turkey",
          "Switzerland"
         ],
         "xaxis": "x",
         "y": [
          15044,
          38080,
          20996,
          26400,
          15574,
          77207,
          19736,
          215,
          786,
          6415
         ],
         "yaxis": "y"
        }
       ],
       "layout": {
        "barmode": "relative",
        "height": 700,
        "legend": {
         "tracegroupgap": 0
        },
        "template": {
         "data": {
          "bar": [
           {
            "error_x": {
             "color": "#2a3f5f"
            },
            "error_y": {
             "color": "#2a3f5f"
            },
            "marker": {
             "line": {
              "color": "#E5ECF6",
              "width": 0.5
             }
            },
            "type": "bar"
           }
          ],
          "barpolar": [
           {
            "marker": {
             "line": {
              "color": "#E5ECF6",
              "width": 0.5
             }
            },
            "type": "barpolar"
           }
          ],
          "carpet": [
           {
            "aaxis": {
             "endlinecolor": "#2a3f5f",
             "gridcolor": "white",
             "linecolor": "white",
             "minorgridcolor": "white",
             "startlinecolor": "#2a3f5f"
            },
            "baxis": {
             "endlinecolor": "#2a3f5f",
             "gridcolor": "white",
             "linecolor": "white",
             "minorgridcolor": "white",
             "startlinecolor": "#2a3f5f"
            },
            "type": "carpet"
           }
          ],
          "choropleth": [
           {
            "colorbar": {
             "outlinewidth": 0,
             "ticks": ""
            },
            "type": "choropleth"
           }
          ],
          "contour": [
           {
            "colorbar": {
             "outlinewidth": 0,
             "ticks": ""
            },
            "colorscale": [
             [
              0,
              "#0d0887"
             ],
             [
              0.1111111111111111,
              "#46039f"
             ],
             [
              0.2222222222222222,
              "#7201a8"
             ],
             [
              0.3333333333333333,
              "#9c179e"
             ],
             [
              0.4444444444444444,
              "#bd3786"
             ],
             [
              0.5555555555555556,
              "#d8576b"
             ],
             [
              0.6666666666666666,
              "#ed7953"
             ],
             [
              0.7777777777777778,
              "#fb9f3a"
             ],
             [
              0.8888888888888888,
              "#fdca26"
             ],
             [
              1,
              "#f0f921"
             ]
            ],
            "type": "contour"
           }
          ],
          "contourcarpet": [
           {
            "colorbar": {
             "outlinewidth": 0,
             "ticks": ""
            },
            "type": "contourcarpet"
           }
          ],
          "heatmap": [
           {
            "colorbar": {
             "outlinewidth": 0,
             "ticks": ""
            },
            "colorscale": [
             [
              0,
              "#0d0887"
             ],
             [
              0.1111111111111111,
              "#46039f"
             ],
             [
              0.2222222222222222,
              "#7201a8"
             ],
             [
              0.3333333333333333,
              "#9c179e"
             ],
             [
              0.4444444444444444,
              "#bd3786"
             ],
             [
              0.5555555555555556,
              "#d8576b"
             ],
             [
              0.6666666666666666,
              "#ed7953"
             ],
             [
              0.7777777777777778,
              "#fb9f3a"
             ],
             [
              0.8888888888888888,
              "#fdca26"
             ],
             [
              1,
              "#f0f921"
             ]
            ],
            "type": "heatmap"
           }
          ],
          "heatmapgl": [
           {
            "colorbar": {
             "outlinewidth": 0,
             "ticks": ""
            },
            "colorscale": [
             [
              0,
              "#0d0887"
             ],
             [
              0.1111111111111111,
              "#46039f"
             ],
             [
              0.2222222222222222,
              "#7201a8"
             ],
             [
              0.3333333333333333,
              "#9c179e"
             ],
             [
              0.4444444444444444,
              "#bd3786"
             ],
             [
              0.5555555555555556,
              "#d8576b"
             ],
             [
              0.6666666666666666,
              "#ed7953"
             ],
             [
              0.7777777777777778,
              "#fb9f3a"
             ],
             [
              0.8888888888888888,
              "#fdca26"
             ],
             [
              1,
              "#f0f921"
             ]
            ],
            "type": "heatmapgl"
           }
          ],
          "histogram": [
           {
            "marker": {
             "colorbar": {
              "outlinewidth": 0,
              "ticks": ""
             }
            },
            "type": "histogram"
           }
          ],
          "histogram2d": [
           {
            "colorbar": {
             "outlinewidth": 0,
             "ticks": ""
            },
            "colorscale": [
             [
              0,
              "#0d0887"
             ],
             [
              0.1111111111111111,
              "#46039f"
             ],
             [
              0.2222222222222222,
              "#7201a8"
             ],
             [
              0.3333333333333333,
              "#9c179e"
             ],
             [
              0.4444444444444444,
              "#bd3786"
             ],
             [
              0.5555555555555556,
              "#d8576b"
             ],
             [
              0.6666666666666666,
              "#ed7953"
             ],
             [
              0.7777777777777778,
              "#fb9f3a"
             ],
             [
              0.8888888888888888,
              "#fdca26"
             ],
             [
              1,
              "#f0f921"
             ]
            ],
            "type": "histogram2d"
           }
          ],
          "histogram2dcontour": [
           {
            "colorbar": {
             "outlinewidth": 0,
             "ticks": ""
            },
            "colorscale": [
             [
              0,
              "#0d0887"
             ],
             [
              0.1111111111111111,
              "#46039f"
             ],
             [
              0.2222222222222222,
              "#7201a8"
             ],
             [
              0.3333333333333333,
              "#9c179e"
             ],
             [
              0.4444444444444444,
              "#bd3786"
             ],
             [
              0.5555555555555556,
              "#d8576b"
             ],
             [
              0.6666666666666666,
              "#ed7953"
             ],
             [
              0.7777777777777778,
              "#fb9f3a"
             ],
             [
              0.8888888888888888,
              "#fdca26"
             ],
             [
              1,
              "#f0f921"
             ]
            ],
            "type": "histogram2dcontour"
           }
          ],
          "mesh3d": [
           {
            "colorbar": {
             "outlinewidth": 0,
             "ticks": ""
            },
            "type": "mesh3d"
           }
          ],
          "parcoords": [
           {
            "line": {
             "colorbar": {
              "outlinewidth": 0,
              "ticks": ""
             }
            },
            "type": "parcoords"
           }
          ],
          "pie": [
           {
            "automargin": true,
            "type": "pie"
           }
          ],
          "scatter": [
           {
            "marker": {
             "colorbar": {
              "outlinewidth": 0,
              "ticks": ""
             }
            },
            "type": "scatter"
           }
          ],
          "scatter3d": [
           {
            "line": {
             "colorbar": {
              "outlinewidth": 0,
              "ticks": ""
             }
            },
            "marker": {
             "colorbar": {
              "outlinewidth": 0,
              "ticks": ""
             }
            },
            "type": "scatter3d"
           }
          ],
          "scattercarpet": [
           {
            "marker": {
             "colorbar": {
              "outlinewidth": 0,
              "ticks": ""
             }
            },
            "type": "scattercarpet"
           }
          ],
          "scattergeo": [
           {
            "marker": {
             "colorbar": {
              "outlinewidth": 0,
              "ticks": ""
             }
            },
            "type": "scattergeo"
           }
          ],
          "scattergl": [
           {
            "marker": {
             "colorbar": {
              "outlinewidth": 0,
              "ticks": ""
             }
            },
            "type": "scattergl"
           }
          ],
          "scattermapbox": [
           {
            "marker": {
             "colorbar": {
              "outlinewidth": 0,
              "ticks": ""
             }
            },
            "type": "scattermapbox"
           }
          ],
          "scatterpolar": [
           {
            "marker": {
             "colorbar": {
              "outlinewidth": 0,
              "ticks": ""
             }
            },
            "type": "scatterpolar"
           }
          ],
          "scatterpolargl": [
           {
            "marker": {
             "colorbar": {
              "outlinewidth": 0,
              "ticks": ""
             }
            },
            "type": "scatterpolargl"
           }
          ],
          "scatterternary": [
           {
            "marker": {
             "colorbar": {
              "outlinewidth": 0,
              "ticks": ""
             }
            },
            "type": "scatterternary"
           }
          ],
          "surface": [
           {
            "colorbar": {
             "outlinewidth": 0,
             "ticks": ""
            },
            "colorscale": [
             [
              0,
              "#0d0887"
             ],
             [
              0.1111111111111111,
              "#46039f"
             ],
             [
              0.2222222222222222,
              "#7201a8"
             ],
             [
              0.3333333333333333,
              "#9c179e"
             ],
             [
              0.4444444444444444,
              "#bd3786"
             ],
             [
              0.5555555555555556,
              "#d8576b"
             ],
             [
              0.6666666666666666,
              "#ed7953"
             ],
             [
              0.7777777777777778,
              "#fb9f3a"
             ],
             [
              0.8888888888888888,
              "#fdca26"
             ],
             [
              1,
              "#f0f921"
             ]
            ],
            "type": "surface"
           }
          ],
          "table": [
           {
            "cells": {
             "fill": {
              "color": "#EBF0F8"
             },
             "line": {
              "color": "white"
             }
            },
            "header": {
             "fill": {
              "color": "#C8D4E3"
             },
             "line": {
              "color": "white"
             }
            },
            "type": "table"
           }
          ]
         },
         "layout": {
          "annotationdefaults": {
           "arrowcolor": "#2a3f5f",
           "arrowhead": 0,
           "arrowwidth": 1
          },
          "coloraxis": {
           "colorbar": {
            "outlinewidth": 0,
            "ticks": ""
           }
          },
          "colorscale": {
           "diverging": [
            [
             0,
             "#8e0152"
            ],
            [
             0.1,
             "#c51b7d"
            ],
            [
             0.2,
             "#de77ae"
            ],
            [
             0.3,
             "#f1b6da"
            ],
            [
             0.4,
             "#fde0ef"
            ],
            [
             0.5,
             "#f7f7f7"
            ],
            [
             0.6,
             "#e6f5d0"
            ],
            [
             0.7,
             "#b8e186"
            ],
            [
             0.8,
             "#7fbc41"
            ],
            [
             0.9,
             "#4d9221"
            ],
            [
             1,
             "#276419"
            ]
           ],
           "sequential": [
            [
             0,
             "#0d0887"
            ],
            [
             0.1111111111111111,
             "#46039f"
            ],
            [
             0.2222222222222222,
             "#7201a8"
            ],
            [
             0.3333333333333333,
             "#9c179e"
            ],
            [
             0.4444444444444444,
             "#bd3786"
            ],
            [
             0.5555555555555556,
             "#d8576b"
            ],
            [
             0.6666666666666666,
             "#ed7953"
            ],
            [
             0.7777777777777778,
             "#fb9f3a"
            ],
            [
             0.8888888888888888,
             "#fdca26"
            ],
            [
             1,
             "#f0f921"
            ]
           ],
           "sequentialminus": [
            [
             0,
             "#0d0887"
            ],
            [
             0.1111111111111111,
             "#46039f"
            ],
            [
             0.2222222222222222,
             "#7201a8"
            ],
            [
             0.3333333333333333,
             "#9c179e"
            ],
            [
             0.4444444444444444,
             "#bd3786"
            ],
            [
             0.5555555555555556,
             "#d8576b"
            ],
            [
             0.6666666666666666,
             "#ed7953"
            ],
            [
             0.7777777777777778,
             "#fb9f3a"
            ],
            [
             0.8888888888888888,
             "#fdca26"
            ],
            [
             1,
             "#f0f921"
            ]
           ]
          },
          "colorway": [
           "#636efa",
           "#EF553B",
           "#00cc96",
           "#ab63fa",
           "#FFA15A",
           "#19d3f3",
           "#FF6692",
           "#B6E880",
           "#FF97FF",
           "#FECB52"
          ],
          "font": {
           "color": "#2a3f5f"
          },
          "geo": {
           "bgcolor": "white",
           "lakecolor": "white",
           "landcolor": "#E5ECF6",
           "showlakes": true,
           "showland": true,
           "subunitcolor": "white"
          },
          "hoverlabel": {
           "align": "left"
          },
          "hovermode": "closest",
          "mapbox": {
           "style": "light"
          },
          "paper_bgcolor": "white",
          "plot_bgcolor": "#E5ECF6",
          "polar": {
           "angularaxis": {
            "gridcolor": "white",
            "linecolor": "white",
            "ticks": ""
           },
           "bgcolor": "#E5ECF6",
           "radialaxis": {
            "gridcolor": "white",
            "linecolor": "white",
            "ticks": ""
           }
          },
          "scene": {
           "xaxis": {
            "backgroundcolor": "#E5ECF6",
            "gridcolor": "white",
            "gridwidth": 2,
            "linecolor": "white",
            "showbackground": true,
            "ticks": "",
            "zerolinecolor": "white"
           },
           "yaxis": {
            "backgroundcolor": "#E5ECF6",
            "gridcolor": "white",
            "gridwidth": 2,
            "linecolor": "white",
            "showbackground": true,
            "ticks": "",
            "zerolinecolor": "white"
           },
           "zaxis": {
            "backgroundcolor": "#E5ECF6",
            "gridcolor": "white",
            "gridwidth": 2,
            "linecolor": "white",
            "showbackground": true,
            "ticks": "",
            "zerolinecolor": "white"
           }
          },
          "shapedefaults": {
           "line": {
            "color": "#2a3f5f"
           }
          },
          "ternary": {
           "aaxis": {
            "gridcolor": "white",
            "linecolor": "white",
            "ticks": ""
           },
           "baxis": {
            "gridcolor": "white",
            "linecolor": "white",
            "ticks": ""
           },
           "bgcolor": "#E5ECF6",
           "caxis": {
            "gridcolor": "white",
            "linecolor": "white",
            "ticks": ""
           }
          },
          "title": {
           "x": 0.05
          },
          "xaxis": {
           "automargin": true,
           "gridcolor": "white",
           "linecolor": "white",
           "ticks": "",
           "title": {
            "standoff": 15
           },
           "zerolinecolor": "white",
           "zerolinewidth": 2
          },
          "yaxis": {
           "automargin": true,
           "gridcolor": "white",
           "linecolor": "white",
           "ticks": "",
           "title": {
            "standoff": 15
           },
           "zerolinecolor": "white",
           "zerolinewidth": 2
          }
         }
        },
        "title": {
         "text": "Top 10 worst affected countries"
        },
        "width": 900,
        "xaxis": {
         "anchor": "y",
         "domain": [
          0,
          1
         ],
         "title": {
          "text": "country"
         }
        },
        "yaxis": {
         "anchor": "x",
         "domain": [
          0,
          1
         ],
         "title": {
          "text": "recovered"
         }
        }
       }
      },
      "text/html": [
       "<div>\n",
       "        \n",
       "        \n",
       "            <div id=\"8275796a-004d-4e19-a42e-8fd269da4f50\" class=\"plotly-graph-div\" style=\"height:700px; width:900px;\"></div>\n",
       "            <script type=\"text/javascript\">\n",
       "                require([\"plotly\"], function(Plotly) {\n",
       "                    window.PLOTLYENV=window.PLOTLYENV || {};\n",
       "                    \n",
       "                if (document.getElementById(\"8275796a-004d-4e19-a42e-8fd269da4f50\")) {\n",
       "                    Plotly.newPlot(\n",
       "                        '8275796a-004d-4e19-a42e-8fd269da4f50',\n",
       "                        [{\"alignmentgroup\": \"True\", \"hoverlabel\": {\"namelength\": 0}, \"hovertemplate\": \"country=%{x}<br>recovered=%{y}\", \"legendgroup\": \"\", \"marker\": {\"color\": \"pink\"}, \"name\": \"\", \"offsetgroup\": \"\", \"orientation\": \"v\", \"showlegend\": false, \"textposition\": \"auto\", \"type\": \"bar\", \"x\": [\"US\", \"Spain\", \"Italy\", \"Germany\", \"France\", \"China\", \"Iran\", \"United Kingdom\", \"Turkey\", \"Switzerland\"], \"xaxis\": \"x\", \"y\": [15044, 38080, 20996, 26400, 15574, 77207, 19736, 215, 786, 6415], \"yaxis\": \"y\"}],\n",
       "                        {\"barmode\": \"relative\", \"height\": 700, \"legend\": {\"tracegroupgap\": 0}, \"template\": {\"data\": {\"bar\": [{\"error_x\": {\"color\": \"#2a3f5f\"}, \"error_y\": {\"color\": \"#2a3f5f\"}, \"marker\": {\"line\": {\"color\": \"#E5ECF6\", \"width\": 0.5}}, \"type\": \"bar\"}], \"barpolar\": [{\"marker\": {\"line\": {\"color\": \"#E5ECF6\", \"width\": 0.5}}, \"type\": \"barpolar\"}], \"carpet\": [{\"aaxis\": {\"endlinecolor\": \"#2a3f5f\", \"gridcolor\": \"white\", \"linecolor\": \"white\", \"minorgridcolor\": \"white\", \"startlinecolor\": \"#2a3f5f\"}, \"baxis\": {\"endlinecolor\": \"#2a3f5f\", \"gridcolor\": \"white\", \"linecolor\": \"white\", \"minorgridcolor\": \"white\", \"startlinecolor\": \"#2a3f5f\"}, \"type\": \"carpet\"}], \"choropleth\": [{\"colorbar\": {\"outlinewidth\": 0, \"ticks\": \"\"}, \"type\": \"choropleth\"}], \"contour\": [{\"colorbar\": {\"outlinewidth\": 0, \"ticks\": \"\"}, \"colorscale\": [[0.0, \"#0d0887\"], [0.1111111111111111, \"#46039f\"], [0.2222222222222222, \"#7201a8\"], [0.3333333333333333, \"#9c179e\"], [0.4444444444444444, \"#bd3786\"], [0.5555555555555556, \"#d8576b\"], [0.6666666666666666, \"#ed7953\"], [0.7777777777777778, \"#fb9f3a\"], [0.8888888888888888, \"#fdca26\"], [1.0, \"#f0f921\"]], \"type\": \"contour\"}], \"contourcarpet\": [{\"colorbar\": {\"outlinewidth\": 0, \"ticks\": \"\"}, \"type\": \"contourcarpet\"}], \"heatmap\": [{\"colorbar\": {\"outlinewidth\": 0, \"ticks\": \"\"}, \"colorscale\": [[0.0, \"#0d0887\"], [0.1111111111111111, \"#46039f\"], [0.2222222222222222, \"#7201a8\"], [0.3333333333333333, \"#9c179e\"], [0.4444444444444444, \"#bd3786\"], [0.5555555555555556, \"#d8576b\"], [0.6666666666666666, \"#ed7953\"], [0.7777777777777778, \"#fb9f3a\"], [0.8888888888888888, \"#fdca26\"], [1.0, \"#f0f921\"]], \"type\": \"heatmap\"}], \"heatmapgl\": [{\"colorbar\": {\"outlinewidth\": 0, \"ticks\": \"\"}, \"colorscale\": [[0.0, \"#0d0887\"], [0.1111111111111111, \"#46039f\"], [0.2222222222222222, \"#7201a8\"], [0.3333333333333333, \"#9c179e\"], [0.4444444444444444, \"#bd3786\"], [0.5555555555555556, \"#d8576b\"], [0.6666666666666666, \"#ed7953\"], [0.7777777777777778, \"#fb9f3a\"], [0.8888888888888888, \"#fdca26\"], [1.0, \"#f0f921\"]], \"type\": \"heatmapgl\"}], \"histogram\": [{\"marker\": {\"colorbar\": {\"outlinewidth\": 0, \"ticks\": \"\"}}, \"type\": \"histogram\"}], \"histogram2d\": [{\"colorbar\": {\"outlinewidth\": 0, \"ticks\": \"\"}, \"colorscale\": [[0.0, \"#0d0887\"], [0.1111111111111111, \"#46039f\"], [0.2222222222222222, \"#7201a8\"], [0.3333333333333333, \"#9c179e\"], [0.4444444444444444, \"#bd3786\"], [0.5555555555555556, \"#d8576b\"], [0.6666666666666666, \"#ed7953\"], [0.7777777777777778, \"#fb9f3a\"], [0.8888888888888888, \"#fdca26\"], [1.0, \"#f0f921\"]], \"type\": \"histogram2d\"}], \"histogram2dcontour\": [{\"colorbar\": {\"outlinewidth\": 0, \"ticks\": \"\"}, \"colorscale\": [[0.0, \"#0d0887\"], [0.1111111111111111, \"#46039f\"], [0.2222222222222222, \"#7201a8\"], [0.3333333333333333, \"#9c179e\"], [0.4444444444444444, \"#bd3786\"], [0.5555555555555556, \"#d8576b\"], [0.6666666666666666, \"#ed7953\"], [0.7777777777777778, \"#fb9f3a\"], [0.8888888888888888, \"#fdca26\"], [1.0, \"#f0f921\"]], \"type\": \"histogram2dcontour\"}], \"mesh3d\": [{\"colorbar\": {\"outlinewidth\": 0, \"ticks\": \"\"}, \"type\": \"mesh3d\"}], \"parcoords\": [{\"line\": {\"colorbar\": {\"outlinewidth\": 0, \"ticks\": \"\"}}, \"type\": \"parcoords\"}], \"pie\": [{\"automargin\": true, \"type\": \"pie\"}], \"scatter\": [{\"marker\": {\"colorbar\": {\"outlinewidth\": 0, \"ticks\": \"\"}}, \"type\": \"scatter\"}], \"scatter3d\": [{\"line\": {\"colorbar\": {\"outlinewidth\": 0, \"ticks\": \"\"}}, \"marker\": {\"colorbar\": {\"outlinewidth\": 0, \"ticks\": \"\"}}, \"type\": \"scatter3d\"}], \"scattercarpet\": [{\"marker\": {\"colorbar\": {\"outlinewidth\": 0, \"ticks\": \"\"}}, \"type\": \"scattercarpet\"}], \"scattergeo\": [{\"marker\": {\"colorbar\": {\"outlinewidth\": 0, \"ticks\": \"\"}}, \"type\": \"scattergeo\"}], \"scattergl\": [{\"marker\": {\"colorbar\": {\"outlinewidth\": 0, \"ticks\": \"\"}}, \"type\": \"scattergl\"}], \"scattermapbox\": [{\"marker\": {\"colorbar\": {\"outlinewidth\": 0, \"ticks\": \"\"}}, \"type\": \"scattermapbox\"}], \"scatterpolar\": [{\"marker\": {\"colorbar\": {\"outlinewidth\": 0, \"ticks\": \"\"}}, \"type\": \"scatterpolar\"}], \"scatterpolargl\": [{\"marker\": {\"colorbar\": {\"outlinewidth\": 0, \"ticks\": \"\"}}, \"type\": \"scatterpolargl\"}], \"scatterternary\": [{\"marker\": {\"colorbar\": {\"outlinewidth\": 0, \"ticks\": \"\"}}, \"type\": \"scatterternary\"}], \"surface\": [{\"colorbar\": {\"outlinewidth\": 0, \"ticks\": \"\"}, \"colorscale\": [[0.0, \"#0d0887\"], [0.1111111111111111, \"#46039f\"], [0.2222222222222222, \"#7201a8\"], [0.3333333333333333, \"#9c179e\"], [0.4444444444444444, \"#bd3786\"], [0.5555555555555556, \"#d8576b\"], [0.6666666666666666, \"#ed7953\"], [0.7777777777777778, \"#fb9f3a\"], [0.8888888888888888, \"#fdca26\"], [1.0, \"#f0f921\"]], \"type\": \"surface\"}], \"table\": [{\"cells\": {\"fill\": {\"color\": \"#EBF0F8\"}, \"line\": {\"color\": \"white\"}}, \"header\": {\"fill\": {\"color\": \"#C8D4E3\"}, \"line\": {\"color\": \"white\"}}, \"type\": \"table\"}]}, \"layout\": {\"annotationdefaults\": {\"arrowcolor\": \"#2a3f5f\", \"arrowhead\": 0, \"arrowwidth\": 1}, \"coloraxis\": {\"colorbar\": {\"outlinewidth\": 0, \"ticks\": \"\"}}, \"colorscale\": {\"diverging\": [[0, \"#8e0152\"], [0.1, \"#c51b7d\"], [0.2, \"#de77ae\"], [0.3, \"#f1b6da\"], [0.4, \"#fde0ef\"], [0.5, \"#f7f7f7\"], [0.6, \"#e6f5d0\"], [0.7, \"#b8e186\"], [0.8, \"#7fbc41\"], [0.9, \"#4d9221\"], [1, \"#276419\"]], \"sequential\": [[0.0, \"#0d0887\"], [0.1111111111111111, \"#46039f\"], [0.2222222222222222, \"#7201a8\"], [0.3333333333333333, \"#9c179e\"], [0.4444444444444444, \"#bd3786\"], [0.5555555555555556, \"#d8576b\"], [0.6666666666666666, \"#ed7953\"], [0.7777777777777778, \"#fb9f3a\"], [0.8888888888888888, \"#fdca26\"], [1.0, \"#f0f921\"]], \"sequentialminus\": [[0.0, \"#0d0887\"], [0.1111111111111111, \"#46039f\"], [0.2222222222222222, \"#7201a8\"], [0.3333333333333333, \"#9c179e\"], [0.4444444444444444, \"#bd3786\"], [0.5555555555555556, \"#d8576b\"], [0.6666666666666666, \"#ed7953\"], [0.7777777777777778, \"#fb9f3a\"], [0.8888888888888888, \"#fdca26\"], [1.0, \"#f0f921\"]]}, \"colorway\": [\"#636efa\", \"#EF553B\", \"#00cc96\", \"#ab63fa\", \"#FFA15A\", \"#19d3f3\", \"#FF6692\", \"#B6E880\", \"#FF97FF\", \"#FECB52\"], \"font\": {\"color\": \"#2a3f5f\"}, \"geo\": {\"bgcolor\": \"white\", \"lakecolor\": \"white\", \"landcolor\": \"#E5ECF6\", \"showlakes\": true, \"showland\": true, \"subunitcolor\": \"white\"}, \"hoverlabel\": {\"align\": \"left\"}, \"hovermode\": \"closest\", \"mapbox\": {\"style\": \"light\"}, \"paper_bgcolor\": \"white\", \"plot_bgcolor\": \"#E5ECF6\", \"polar\": {\"angularaxis\": {\"gridcolor\": \"white\", \"linecolor\": \"white\", \"ticks\": \"\"}, \"bgcolor\": \"#E5ECF6\", \"radialaxis\": {\"gridcolor\": \"white\", \"linecolor\": \"white\", \"ticks\": \"\"}}, \"scene\": {\"xaxis\": {\"backgroundcolor\": \"#E5ECF6\", \"gridcolor\": \"white\", \"gridwidth\": 2, \"linecolor\": \"white\", \"showbackground\": true, \"ticks\": \"\", \"zerolinecolor\": \"white\"}, \"yaxis\": {\"backgroundcolor\": \"#E5ECF6\", \"gridcolor\": \"white\", \"gridwidth\": 2, \"linecolor\": \"white\", \"showbackground\": true, \"ticks\": \"\", \"zerolinecolor\": \"white\"}, \"zaxis\": {\"backgroundcolor\": \"#E5ECF6\", \"gridcolor\": \"white\", \"gridwidth\": 2, \"linecolor\": \"white\", \"showbackground\": true, \"ticks\": \"\", \"zerolinecolor\": \"white\"}}, \"shapedefaults\": {\"line\": {\"color\": \"#2a3f5f\"}}, \"ternary\": {\"aaxis\": {\"gridcolor\": \"white\", \"linecolor\": \"white\", \"ticks\": \"\"}, \"baxis\": {\"gridcolor\": \"white\", \"linecolor\": \"white\", \"ticks\": \"\"}, \"bgcolor\": \"#E5ECF6\", \"caxis\": {\"gridcolor\": \"white\", \"linecolor\": \"white\", \"ticks\": \"\"}}, \"title\": {\"x\": 0.05}, \"xaxis\": {\"automargin\": true, \"gridcolor\": \"white\", \"linecolor\": \"white\", \"ticks\": \"\", \"title\": {\"standoff\": 15}, \"zerolinecolor\": \"white\", \"zerolinewidth\": 2}, \"yaxis\": {\"automargin\": true, \"gridcolor\": \"white\", \"linecolor\": \"white\", \"ticks\": \"\", \"title\": {\"standoff\": 15}, \"zerolinecolor\": \"white\", \"zerolinewidth\": 2}}}, \"title\": {\"text\": \"Top 10 worst affected countries\"}, \"width\": 900, \"xaxis\": {\"anchor\": \"y\", \"domain\": [0.0, 1.0], \"title\": {\"text\": \"country\"}}, \"yaxis\": {\"anchor\": \"x\", \"domain\": [0.0, 1.0], \"title\": {\"text\": \"recovered\"}}},\n",
       "                        {\"responsive\": true}\n",
       "                    ).then(function(){\n",
       "                            \n",
       "var gd = document.getElementById('8275796a-004d-4e19-a42e-8fd269da4f50');\n",
       "var x = new MutationObserver(function (mutations, observer) {{\n",
       "        var display = window.getComputedStyle(gd).display;\n",
       "        if (!display || display === 'none') {{\n",
       "            console.log([gd, 'removed!']);\n",
       "            Plotly.purge(gd);\n",
       "            observer.disconnect();\n",
       "        }}\n",
       "}});\n",
       "\n",
       "// Listen for the removal of the full notebook cells\n",
       "var notebookContainer = gd.closest('#notebook-container');\n",
       "if (notebookContainer) {{\n",
       "    x.observe(notebookContainer, {childList: true});\n",
       "}}\n",
       "\n",
       "// Listen for the clearing of the current output cell\n",
       "var outputEl = gd.closest('.output');\n",
       "if (outputEl) {{\n",
       "    x.observe(outputEl, {childList: true});\n",
       "}}\n",
       "\n",
       "                        })\n",
       "                };\n",
       "                });\n",
       "            </script>\n",
       "        </div>"
      ]
     },
     "metadata": {},
     "output_type": "display_data"
    }
   ],
   "source": [
    "px.bar(\n",
    "    sorted_country_df.head(10),\n",
    "    x = \"country\",\n",
    "    y = \"recovered\",\n",
    "    title= \"Top 10 worst affected countries\", # the axis names\n",
    "    color_discrete_sequence=[\"pink\"], \n",
    "    height=700,\n",
    "    width=900\n",
    ")"
   ]
  },
  {
   "cell_type": "markdown",
   "metadata": {},
   "source": [
    "# Global spread of COVID-19"
   ]
  },
  {
   "cell_type": "code",
   "execution_count": 20,
   "metadata": {},
   "outputs": [
    {
     "data": {
      "text/html": [
       "<div>\n",
       "<style scoped>\n",
       "    .dataframe tbody tr th:only-of-type {\n",
       "        vertical-align: middle;\n",
       "    }\n",
       "\n",
       "    .dataframe tbody tr th {\n",
       "        vertical-align: top;\n",
       "    }\n",
       "\n",
       "    .dataframe thead th {\n",
       "        text-align: right;\n",
       "    }\n",
       "</style>\n",
       "<table border=\"1\" class=\"dataframe\">\n",
       "  <thead>\n",
       "    <tr style=\"text-align: right;\">\n",
       "      <th></th>\n",
       "      <th>state</th>\n",
       "      <th>country</th>\n",
       "      <th>lat</th>\n",
       "      <th>long</th>\n",
       "      <th>1/22/20</th>\n",
       "      <th>1/23/20</th>\n",
       "      <th>1/24/20</th>\n",
       "      <th>1/25/20</th>\n",
       "      <th>1/26/20</th>\n",
       "      <th>1/27/20</th>\n",
       "      <th>...</th>\n",
       "      <th>3/25/20</th>\n",
       "      <th>3/26/20</th>\n",
       "      <th>3/27/20</th>\n",
       "      <th>3/28/20</th>\n",
       "      <th>3/29/20</th>\n",
       "      <th>3/30/20</th>\n",
       "      <th>3/31/20</th>\n",
       "      <th>4/1/20</th>\n",
       "      <th>4/2/20</th>\n",
       "      <th>4/3/20</th>\n",
       "    </tr>\n",
       "  </thead>\n",
       "  <tbody>\n",
       "    <tr>\n",
       "      <td>35</td>\n",
       "      <td>Alberta</td>\n",
       "      <td>Canada</td>\n",
       "      <td>53.9333</td>\n",
       "      <td>-116.5765</td>\n",
       "      <td>0</td>\n",
       "      <td>0</td>\n",
       "      <td>0</td>\n",
       "      <td>0</td>\n",
       "      <td>0</td>\n",
       "      <td>0</td>\n",
       "      <td>...</td>\n",
       "      <td>358</td>\n",
       "      <td>486</td>\n",
       "      <td>542</td>\n",
       "      <td>542</td>\n",
       "      <td>621</td>\n",
       "      <td>661</td>\n",
       "      <td>690</td>\n",
       "      <td>754</td>\n",
       "      <td>969</td>\n",
       "      <td>969</td>\n",
       "    </tr>\n",
       "    <tr>\n",
       "      <td>36</td>\n",
       "      <td>British Columbia</td>\n",
       "      <td>Canada</td>\n",
       "      <td>49.2827</td>\n",
       "      <td>-123.1207</td>\n",
       "      <td>0</td>\n",
       "      <td>0</td>\n",
       "      <td>0</td>\n",
       "      <td>0</td>\n",
       "      <td>0</td>\n",
       "      <td>0</td>\n",
       "      <td>...</td>\n",
       "      <td>617</td>\n",
       "      <td>725</td>\n",
       "      <td>725</td>\n",
       "      <td>884</td>\n",
       "      <td>884</td>\n",
       "      <td>970</td>\n",
       "      <td>1013</td>\n",
       "      <td>1013</td>\n",
       "      <td>1121</td>\n",
       "      <td>1174</td>\n",
       "    </tr>\n",
       "    <tr>\n",
       "      <td>37</td>\n",
       "      <td>Grand Princess</td>\n",
       "      <td>Canada</td>\n",
       "      <td>37.6489</td>\n",
       "      <td>-122.6655</td>\n",
       "      <td>0</td>\n",
       "      <td>0</td>\n",
       "      <td>0</td>\n",
       "      <td>0</td>\n",
       "      <td>0</td>\n",
       "      <td>0</td>\n",
       "      <td>...</td>\n",
       "      <td>13</td>\n",
       "      <td>13</td>\n",
       "      <td>13</td>\n",
       "      <td>13</td>\n",
       "      <td>13</td>\n",
       "      <td>13</td>\n",
       "      <td>13</td>\n",
       "      <td>13</td>\n",
       "      <td>13</td>\n",
       "      <td>13</td>\n",
       "    </tr>\n",
       "    <tr>\n",
       "      <td>38</td>\n",
       "      <td>Manitoba</td>\n",
       "      <td>Canada</td>\n",
       "      <td>53.7609</td>\n",
       "      <td>-98.8139</td>\n",
       "      <td>0</td>\n",
       "      <td>0</td>\n",
       "      <td>0</td>\n",
       "      <td>0</td>\n",
       "      <td>0</td>\n",
       "      <td>0</td>\n",
       "      <td>...</td>\n",
       "      <td>35</td>\n",
       "      <td>36</td>\n",
       "      <td>39</td>\n",
       "      <td>64</td>\n",
       "      <td>72</td>\n",
       "      <td>96</td>\n",
       "      <td>103</td>\n",
       "      <td>127</td>\n",
       "      <td>167</td>\n",
       "      <td>182</td>\n",
       "    </tr>\n",
       "    <tr>\n",
       "      <td>39</td>\n",
       "      <td>New Brunswick</td>\n",
       "      <td>Canada</td>\n",
       "      <td>46.5653</td>\n",
       "      <td>-66.4619</td>\n",
       "      <td>0</td>\n",
       "      <td>0</td>\n",
       "      <td>0</td>\n",
       "      <td>0</td>\n",
       "      <td>0</td>\n",
       "      <td>0</td>\n",
       "      <td>...</td>\n",
       "      <td>18</td>\n",
       "      <td>33</td>\n",
       "      <td>45</td>\n",
       "      <td>51</td>\n",
       "      <td>66</td>\n",
       "      <td>68</td>\n",
       "      <td>70</td>\n",
       "      <td>81</td>\n",
       "      <td>91</td>\n",
       "      <td>91</td>\n",
       "    </tr>\n",
       "  </tbody>\n",
       "</table>\n",
       "<p>5 rows × 77 columns</p>\n",
       "</div>"
      ],
      "text/plain": [
       "               state country      lat      long  1/22/20  1/23/20  1/24/20  \\\n",
       "35           Alberta  Canada  53.9333 -116.5765        0        0        0   \n",
       "36  British Columbia  Canada  49.2827 -123.1207        0        0        0   \n",
       "37    Grand Princess  Canada  37.6489 -122.6655        0        0        0   \n",
       "38          Manitoba  Canada  53.7609  -98.8139        0        0        0   \n",
       "39     New Brunswick  Canada  46.5653  -66.4619        0        0        0   \n",
       "\n",
       "    1/25/20  1/26/20  1/27/20  ...  3/25/20  3/26/20  3/27/20  3/28/20  \\\n",
       "35        0        0        0  ...      358      486      542      542   \n",
       "36        0        0        0  ...      617      725      725      884   \n",
       "37        0        0        0  ...       13       13       13       13   \n",
       "38        0        0        0  ...       35       36       39       64   \n",
       "39        0        0        0  ...       18       33       45       51   \n",
       "\n",
       "    3/29/20  3/30/20  3/31/20  4/1/20  4/2/20  4/3/20  \n",
       "35      621      661      690     754     969     969  \n",
       "36      884      970     1013    1013    1121    1174  \n",
       "37       13       13       13      13      13      13  \n",
       "38       72       96      103     127     167     182  \n",
       "39       66       68       70      81      91      91  \n",
       "\n",
       "[5 rows x 77 columns]"
      ]
     },
     "execution_count": 20,
     "metadata": {},
     "output_type": "execute_result"
    }
   ],
   "source": [
    "confirmed_df[confirmed_df.country==\"Canada\"].head()"
   ]
  },
  {
   "cell_type": "code",
   "execution_count": 18,
   "metadata": {
    "scrolled": true
   },
   "outputs": [
    {
     "data": {
      "text/html": [
       "<div style=\"width:100%;\"><div style=\"position:relative;width:100%;height:0;padding-bottom:60%;\"><iframe src=\"data:text/html;charset=utf-8;base64,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\" style=\"position:absolute;width:100%;height:100%;left:0;top:0;border:none !important;\" allowfullscreen webkitallowfullscreen mozallowfullscreen></iframe></div></div>"
      ],
      "text/plain": [
       "<folium.folium.Map at 0x1d6d72925c8>"
      ]
     },
     "execution_count": 18,
     "metadata": {},
     "output_type": "execute_result"
    }
   ],
   "source": [
    "\n",
    "world_map = folium.Map(location=[11,0], tiles=\"cartodbpositron\", zoom_start=2, max_zoom = 6, min_zoom = 2)\n",
    "\n",
    "\n",
    "for i in range(0,len(confirmed_df)):\n",
    "    if pd.isna(confirmed_df.iloc[i]['state']):\n",
    "        folium.Circle(\n",
    "            location=[confirmed_df.iloc[i]['lat'], confirmed_df.iloc[i]['long']],\n",
    "            fill=True,\n",
    "            radius=(int((np.log(confirmed_df.iloc[i,-1]+1.00001)))+0.2)*50000,\n",
    "            color='red',\n",
    "            fill_color='indigo',\n",
    "            tooltip = \"<div style='margin: 0; background-color: black; color: white;'>\"+\n",
    "                        \"<h4 style='text-align:center;font-weight: bold'>\"+confirmed_df.iloc[i]['country'] + \"</h4>\"\n",
    "                        \"<hr style='margin:10px;color: white;'>\"+\n",
    "                        \"<ul style='color: white;;list-style-type:circle;align-item:left;padding-left:20px;padding-right:20px'>\"+\n",
    "                            \"<li>Confirmed: \"+str(confirmed_df.iloc[i,-1])+\"</li>\"+\n",
    "                            \"<li>Deaths:   \"+str(death_df.iloc[i,-1])+\"</li>\"+\n",
    "                            \"<li>Death Rate: \"+ str(np.round(death_df.iloc[i,-1]/(confirmed_df.iloc[i,-1]+1.00001)*100,2))+ \"</li>\"+\n",
    "                        \"</ul></div>\",\n",
    "            ).add_to(world_map)\n",
    "    else:\n",
    "        folium.Circle(\n",
    "            location=[confirmed_df.iloc[i]['lat'], confirmed_df.iloc[i]['long']],\n",
    "            fill=True,\n",
    "            radius=(int((np.log(confirmed_df.iloc[i,-1]+1.00001)))+0.2)*50000,\n",
    "            color='red',\n",
    "            fill_color='indigo',\n",
    "            tooltip = \"<div style='margin: 0; background-color: black; color: white;'>\"+\n",
    "                        \"<h4 style='text-align:center;font-weight: bold'>\"+confirmed_df.iloc[i]['country'] + \"</h4>\"\n",
    "                        \"<h5 style='text-align:center;font-weight: bold'>\"+confirmed_df.iloc[i]['state'] + \"</h5>\"            \n",
    "                        \"<hr style='margin:10px;color: white;'>\"+\n",
    "                        \"<ul style='color: white;;list-style-type:circle;align-item:left;padding-left:20px;padding-right:20px'>\"+\n",
    "                            \"<li>Confirmed: \"+str(confirmed_df.iloc[i,-1])+\"</li>\"+\n",
    "                            \"<li>Deaths:   \"+str(death_df.iloc[i,-1])+\"</li>\"+\n",
    "                            \"<li>Death Rate: \"+ str(np.round(death_df.iloc[i,-1]/(confirmed_df.iloc[i,-1]+1.00001)*100,2))+ \"</li>\"+\n",
    "                        \"</ul></div>\",\n",
    "            ).add_to(world_map)        \n",
    "world_map\n"
   ]
  },
  {
   "cell_type": "markdown",
   "metadata": {},
   "source": [
    "## [Notebook covers:](https://github.com/datasciencewithharshit/voila-covid-19-dashboard)\n",
    "\n",
    "1. What is COVID-19?\n",
    "2. Data loading from [John Hopkins CSSE data repository](https://github.com/CSSEGISandData/COVID-19/tree/master/csse_covid_19_data/csse_covid_19_time_series)\n",
    "3. Data Cleaning and Preparation\n",
    "4. Visualising N number of worst hit countries using [plotly](https://plotly.com/) scatter plot.\n",
    "5. Plotting confirmed and death cases for the requested country.\n",
    "6. Plotting all cases on world map using [Folium](https://python-visualization.github.io/folium/)\n",
    "\n",
    "\n",
    "## Symptoms:\n",
    "People may be sick with the virus for 1 to 14 days before developing symptoms. The most common symptoms of coronavirus disease (COVID-19) are fever, tiredness, and dry cough. Most people (about 80%) recover from the disease without needing special treatment.\n",
    "* cough\n",
    "* fever\n",
    "* tiredness\n",
    "* difficulty in breathing(severe cases)\n",
    "\n",
    "## More Info on COVID-19:\n",
    "* [https://www.who.int/health-topics/coronavirus](https://www.who.int/health-topics/coronavirus)\n",
    "* [https://www.who.int/emergencies/diseases/novel-coronavirus-2019](https://www.who.int/emergencies/diseases/novel-coronavirus-2019)\n",
    "* [https://www.nature.com/articles/s41597-020-0448-0](https://www.nature.com/articles/s41597-020-0448-0)\n",
    "\n",
    "## Link to the analysis and other resources:\n",
    "* [Link to GitHub repo: ](https://github.com/datasciencewithharshit/voila-covid-19-dashboard)\n",
    "* [Link to Author's Youtube: ](https://www.youtube.com/channel/UCH-xwLTKQaABNs2QmGxK2bQ?view_as=subscriber)\n"
   ]
  },
  {
   "cell_type": "code",
   "execution_count": null,
   "metadata": {},
   "outputs": [],
   "source": []
  }
 ],
 "metadata": {
  "kernelspec": {
   "display_name": "Python 3",
   "language": "python",
   "name": "python3"
  },
  "language_info": {
   "codemirror_mode": {
    "name": "ipython",
    "version": 3
   },
   "file_extension": ".py",
   "mimetype": "text/x-python",
   "name": "python",
   "nbconvert_exporter": "python",
   "pygments_lexer": "ipython3",
   "version": "3.7.4"
  }
 },
 "nbformat": 4,
 "nbformat_minor": 2
}
